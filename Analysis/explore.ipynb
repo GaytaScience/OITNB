{
 "cells": [
  {
   "cell_type": "code",
   "execution_count": 39,
   "metadata": {},
   "outputs": [],
   "source": [
    "# Import packages\n",
    "import pandas as pd\n",
    "import matplotlib.pyplot as plt\n",
    "import numpy as np\n",
    "\n",
    "%matplotlib inline\n",
    "\n",
    "#set ggplot style\n",
    "plt.style.use('ggplot')"
   ]
  },
  {
   "cell_type": "code",
   "execution_count": 22,
   "metadata": {},
   "outputs": [
    {
     "data": {
      "text/html": [
       "<div>\n",
       "<style scoped>\n",
       "    .dataframe tbody tr th:only-of-type {\n",
       "        vertical-align: middle;\n",
       "    }\n",
       "\n",
       "    .dataframe tbody tr th {\n",
       "        vertical-align: top;\n",
       "    }\n",
       "\n",
       "    .dataframe thead th {\n",
       "        text-align: right;\n",
       "    }\n",
       "</style>\n",
       "<table border=\"1\" class=\"dataframe\">\n",
       "  <thead>\n",
       "    <tr style=\"text-align: right;\">\n",
       "      <th></th>\n",
       "      <th>Season</th>\n",
       "      <th>Episode</th>\n",
       "      <th>Title</th>\n",
       "      <th>Person1</th>\n",
       "      <th>Person2</th>\n",
       "      <th>Start</th>\n",
       "      <th>End</th>\n",
       "      <th>Duration</th>\n",
       "      <th>Location</th>\n",
       "      <th>Type</th>\n",
       "      <th>Queer</th>\n",
       "      <th>Transactional</th>\n",
       "      <th>NonConsentual</th>\n",
       "      <th>Notes</th>\n",
       "    </tr>\n",
       "  </thead>\n",
       "  <tbody>\n",
       "    <tr>\n",
       "      <th>0</th>\n",
       "      <td>1</td>\n",
       "      <td>1</td>\n",
       "      <td>I Wasn't Ready</td>\n",
       "      <td>Alex Vause</td>\n",
       "      <td>Piper Chapman</td>\n",
       "      <td>51:55</td>\n",
       "      <td>51:47</td>\n",
       "      <td>00:08</td>\n",
       "      <td>Flashback</td>\n",
       "      <td>Groping/Touching, Kiss/Kissing</td>\n",
       "      <td>1</td>\n",
       "      <td>0</td>\n",
       "      <td>0</td>\n",
       "      <td>NaN</td>\n",
       "    </tr>\n",
       "    <tr>\n",
       "      <th>1</th>\n",
       "      <td>1</td>\n",
       "      <td>1</td>\n",
       "      <td>I Wasn't Ready</td>\n",
       "      <td>Larry Bloom</td>\n",
       "      <td>Piper Chapman</td>\n",
       "      <td>51:47</td>\n",
       "      <td>51:39</td>\n",
       "      <td>00:08</td>\n",
       "      <td>Flashback</td>\n",
       "      <td>Kiss/Kissing</td>\n",
       "      <td>0</td>\n",
       "      <td>0</td>\n",
       "      <td>0</td>\n",
       "      <td>NaN</td>\n",
       "    </tr>\n",
       "    <tr>\n",
       "      <th>2</th>\n",
       "      <td>1</td>\n",
       "      <td>1</td>\n",
       "      <td>I Wasn't Ready</td>\n",
       "      <td>Larry Bloom</td>\n",
       "      <td>Piper Chapman</td>\n",
       "      <td>47:26</td>\n",
       "      <td>47:05</td>\n",
       "      <td>00:21</td>\n",
       "      <td>Outside</td>\n",
       "      <td>Groping/Touching, Kiss/Kissing</td>\n",
       "      <td>0</td>\n",
       "      <td>0</td>\n",
       "      <td>0</td>\n",
       "      <td>NaN</td>\n",
       "    </tr>\n",
       "    <tr>\n",
       "      <th>3</th>\n",
       "      <td>1</td>\n",
       "      <td>1</td>\n",
       "      <td>I Wasn't Ready</td>\n",
       "      <td>Larry Bloom</td>\n",
       "      <td>Piper Chapman</td>\n",
       "      <td>45:10</td>\n",
       "      <td>45:01</td>\n",
       "      <td>00:09</td>\n",
       "      <td>Outside</td>\n",
       "      <td>Groping/Touching, Kiss/Kissing</td>\n",
       "      <td>0</td>\n",
       "      <td>0</td>\n",
       "      <td>0</td>\n",
       "      <td>NaN</td>\n",
       "    </tr>\n",
       "    <tr>\n",
       "      <th>4</th>\n",
       "      <td>1</td>\n",
       "      <td>1</td>\n",
       "      <td>I Wasn't Ready</td>\n",
       "      <td>Larry Bloom</td>\n",
       "      <td>Piper Chapman</td>\n",
       "      <td>44:44</td>\n",
       "      <td>44:34</td>\n",
       "      <td>00:10</td>\n",
       "      <td>Outside</td>\n",
       "      <td>Groping/Touching, Kiss/Kissing</td>\n",
       "      <td>0</td>\n",
       "      <td>0</td>\n",
       "      <td>0</td>\n",
       "      <td>NaN</td>\n",
       "    </tr>\n",
       "    <tr>\n",
       "      <th>...</th>\n",
       "      <td>...</td>\n",
       "      <td>...</td>\n",
       "      <td>...</td>\n",
       "      <td>...</td>\n",
       "      <td>...</td>\n",
       "      <td>...</td>\n",
       "      <td>...</td>\n",
       "      <td>...</td>\n",
       "      <td>...</td>\n",
       "      <td>...</td>\n",
       "      <td>...</td>\n",
       "      <td>...</td>\n",
       "      <td>...</td>\n",
       "      <td>...</td>\n",
       "    </tr>\n",
       "    <tr>\n",
       "      <th>302</th>\n",
       "      <td>7</td>\n",
       "      <td>12</td>\n",
       "      <td>The Big House</td>\n",
       "      <td>Aleida Diaz</td>\n",
       "      <td>Rick Hopper</td>\n",
       "      <td>45:29</td>\n",
       "      <td>44:52</td>\n",
       "      <td>00:37</td>\n",
       "      <td>Litchfield</td>\n",
       "      <td>Penetrative sex (penis)</td>\n",
       "      <td>0</td>\n",
       "      <td>0</td>\n",
       "      <td>0</td>\n",
       "      <td>NaN</td>\n",
       "    </tr>\n",
       "    <tr>\n",
       "      <th>303</th>\n",
       "      <td>7</td>\n",
       "      <td>12</td>\n",
       "      <td>The Big House</td>\n",
       "      <td>Lorna Morello</td>\n",
       "      <td>Nicky Nichols</td>\n",
       "      <td>18:19</td>\n",
       "      <td>18:18</td>\n",
       "      <td>00:01</td>\n",
       "      <td>Litchfield</td>\n",
       "      <td>Kiss/Kissing</td>\n",
       "      <td>1</td>\n",
       "      <td>0</td>\n",
       "      <td>0</td>\n",
       "      <td>NaN</td>\n",
       "    </tr>\n",
       "    <tr>\n",
       "      <th>304</th>\n",
       "      <td>7</td>\n",
       "      <td>13</td>\n",
       "      <td>Here's Where We Get Off</td>\n",
       "      <td>Piper Chapman</td>\n",
       "      <td>Zelda</td>\n",
       "      <td>70:51</td>\n",
       "      <td>70:50</td>\n",
       "      <td>00:01</td>\n",
       "      <td>Outside</td>\n",
       "      <td>Kiss/Kissing</td>\n",
       "      <td>1</td>\n",
       "      <td>0</td>\n",
       "      <td>0</td>\n",
       "      <td>NaN</td>\n",
       "    </tr>\n",
       "    <tr>\n",
       "      <th>305</th>\n",
       "      <td>7</td>\n",
       "      <td>13</td>\n",
       "      <td>Here's Where We Get Off</td>\n",
       "      <td>Blanca Flores</td>\n",
       "      <td>Dario \"Diablo\" Zuniga</td>\n",
       "      <td>06:52</td>\n",
       "      <td>06:51</td>\n",
       "      <td>00:01</td>\n",
       "      <td>Outside</td>\n",
       "      <td>Kiss/Kissing</td>\n",
       "      <td>0</td>\n",
       "      <td>0</td>\n",
       "      <td>0</td>\n",
       "      <td>NaN</td>\n",
       "    </tr>\n",
       "    <tr>\n",
       "      <th>306</th>\n",
       "      <td>7</td>\n",
       "      <td>13</td>\n",
       "      <td>Here's Where We Get Off</td>\n",
       "      <td>Galina 'Red' Reznikov</td>\n",
       "      <td>Lorna Morello</td>\n",
       "      <td>05:50</td>\n",
       "      <td>05:49</td>\n",
       "      <td>00:01</td>\n",
       "      <td>Litchfield</td>\n",
       "      <td>Kiss/Kissing</td>\n",
       "      <td>1</td>\n",
       "      <td>0</td>\n",
       "      <td>0</td>\n",
       "      <td>NaN</td>\n",
       "    </tr>\n",
       "  </tbody>\n",
       "</table>\n",
       "<p>307 rows × 14 columns</p>\n",
       "</div>"
      ],
      "text/plain": [
       "     Season  Episode                    Title                Person1  \\\n",
       "0         1        1           I Wasn't Ready             Alex Vause   \n",
       "1         1        1           I Wasn't Ready            Larry Bloom   \n",
       "2         1        1           I Wasn't Ready            Larry Bloom   \n",
       "3         1        1           I Wasn't Ready            Larry Bloom   \n",
       "4         1        1           I Wasn't Ready            Larry Bloom   \n",
       "..      ...      ...                      ...                    ...   \n",
       "302       7       12            The Big House            Aleida Diaz   \n",
       "303       7       12            The Big House          Lorna Morello   \n",
       "304       7       13  Here's Where We Get Off          Piper Chapman   \n",
       "305       7       13  Here's Where We Get Off          Blanca Flores   \n",
       "306       7       13  Here's Where We Get Off  Galina 'Red' Reznikov   \n",
       "\n",
       "                   Person2  Start    End Duration    Location  \\\n",
       "0            Piper Chapman  51:55  51:47    00:08   Flashback   \n",
       "1            Piper Chapman  51:47  51:39    00:08   Flashback   \n",
       "2            Piper Chapman  47:26  47:05    00:21     Outside   \n",
       "3            Piper Chapman  45:10  45:01    00:09     Outside   \n",
       "4            Piper Chapman  44:44  44:34    00:10     Outside   \n",
       "..                     ...    ...    ...      ...         ...   \n",
       "302            Rick Hopper  45:29  44:52    00:37  Litchfield   \n",
       "303          Nicky Nichols  18:19  18:18    00:01  Litchfield   \n",
       "304                  Zelda  70:51  70:50    00:01     Outside   \n",
       "305  Dario \"Diablo\" Zuniga  06:52  06:51    00:01     Outside   \n",
       "306          Lorna Morello  05:50  05:49    00:01  Litchfield   \n",
       "\n",
       "                               Type  Queer  Transactional  NonConsentual Notes  \n",
       "0    Groping/Touching, Kiss/Kissing      1              0              0   NaN  \n",
       "1                      Kiss/Kissing      0              0              0   NaN  \n",
       "2    Groping/Touching, Kiss/Kissing      0              0              0   NaN  \n",
       "3    Groping/Touching, Kiss/Kissing      0              0              0   NaN  \n",
       "4    Groping/Touching, Kiss/Kissing      0              0              0   NaN  \n",
       "..                              ...    ...            ...            ...   ...  \n",
       "302         Penetrative sex (penis)      0              0              0   NaN  \n",
       "303                    Kiss/Kissing      1              0              0   NaN  \n",
       "304                    Kiss/Kissing      1              0              0   NaN  \n",
       "305                    Kiss/Kissing      0              0              0   NaN  \n",
       "306                    Kiss/Kissing      1              0              0   NaN  \n",
       "\n",
       "[307 rows x 14 columns]"
      ]
     },
     "execution_count": 22,
     "metadata": {},
     "output_type": "execute_result"
    }
   ],
   "source": [
    "# Import data\n",
    "data = pd.read_csv('../Data/OITNB_Sexual_Encounters.csv')\n",
    "data"
   ]
  },
  {
   "cell_type": "code",
   "execution_count": 31,
   "metadata": {},
   "outputs": [
    {
     "name": "stdout",
     "output_type": "stream",
     "text": [
      "Duration             object\n",
      "durform              object\n",
      "DurForm     timedelta64[ns]\n",
      "dtype: object\n"
     ]
    },
    {
     "data": {
      "text/html": [
       "<div>\n",
       "<style scoped>\n",
       "    .dataframe tbody tr th:only-of-type {\n",
       "        vertical-align: middle;\n",
       "    }\n",
       "\n",
       "    .dataframe tbody tr th {\n",
       "        vertical-align: top;\n",
       "    }\n",
       "\n",
       "    .dataframe thead th {\n",
       "        text-align: right;\n",
       "    }\n",
       "</style>\n",
       "<table border=\"1\" class=\"dataframe\">\n",
       "  <thead>\n",
       "    <tr style=\"text-align: right;\">\n",
       "      <th></th>\n",
       "      <th>Duration</th>\n",
       "      <th>durform</th>\n",
       "      <th>DurForm</th>\n",
       "    </tr>\n",
       "  </thead>\n",
       "  <tbody>\n",
       "    <tr>\n",
       "      <th>0</th>\n",
       "      <td>00:08</td>\n",
       "      <td>00:00:08</td>\n",
       "      <td>00:00:08</td>\n",
       "    </tr>\n",
       "    <tr>\n",
       "      <th>1</th>\n",
       "      <td>00:08</td>\n",
       "      <td>00:00:08</td>\n",
       "      <td>00:00:08</td>\n",
       "    </tr>\n",
       "    <tr>\n",
       "      <th>2</th>\n",
       "      <td>00:21</td>\n",
       "      <td>00:00:21</td>\n",
       "      <td>00:00:21</td>\n",
       "    </tr>\n",
       "    <tr>\n",
       "      <th>3</th>\n",
       "      <td>00:09</td>\n",
       "      <td>00:00:09</td>\n",
       "      <td>00:00:09</td>\n",
       "    </tr>\n",
       "    <tr>\n",
       "      <th>4</th>\n",
       "      <td>00:10</td>\n",
       "      <td>00:00:10</td>\n",
       "      <td>00:00:10</td>\n",
       "    </tr>\n",
       "    <tr>\n",
       "      <th>...</th>\n",
       "      <td>...</td>\n",
       "      <td>...</td>\n",
       "      <td>...</td>\n",
       "    </tr>\n",
       "    <tr>\n",
       "      <th>302</th>\n",
       "      <td>00:37</td>\n",
       "      <td>00:00:37</td>\n",
       "      <td>00:00:37</td>\n",
       "    </tr>\n",
       "    <tr>\n",
       "      <th>303</th>\n",
       "      <td>00:01</td>\n",
       "      <td>00:00:01</td>\n",
       "      <td>00:00:01</td>\n",
       "    </tr>\n",
       "    <tr>\n",
       "      <th>304</th>\n",
       "      <td>00:01</td>\n",
       "      <td>00:00:01</td>\n",
       "      <td>00:00:01</td>\n",
       "    </tr>\n",
       "    <tr>\n",
       "      <th>305</th>\n",
       "      <td>00:01</td>\n",
       "      <td>00:00:01</td>\n",
       "      <td>00:00:01</td>\n",
       "    </tr>\n",
       "    <tr>\n",
       "      <th>306</th>\n",
       "      <td>00:01</td>\n",
       "      <td>00:00:01</td>\n",
       "      <td>00:00:01</td>\n",
       "    </tr>\n",
       "  </tbody>\n",
       "</table>\n",
       "<p>307 rows × 3 columns</p>\n",
       "</div>"
      ],
      "text/plain": [
       "    Duration   durform  DurForm\n",
       "0      00:08  00:00:08 00:00:08\n",
       "1      00:08  00:00:08 00:00:08\n",
       "2      00:21  00:00:21 00:00:21\n",
       "3      00:09  00:00:09 00:00:09\n",
       "4      00:10  00:00:10 00:00:10\n",
       "..       ...       ...      ...\n",
       "302    00:37  00:00:37 00:00:37\n",
       "303    00:01  00:00:01 00:00:01\n",
       "304    00:01  00:00:01 00:00:01\n",
       "305    00:01  00:00:01 00:00:01\n",
       "306    00:01  00:00:01 00:00:01\n",
       "\n",
       "[307 rows x 3 columns]"
      ]
     },
     "execution_count": 31,
     "metadata": {},
     "output_type": "execute_result"
    }
   ],
   "source": [
    "# Format duration\n",
    "data['durform'] = pd.to_datetime(data['Duration'], format='%M:%S').dt.strftime('%H:%M:%S')\n",
    "data['DurForm'] = pd.to_timedelta(data.durform)\n",
    "print(data[['Duration', 'durform', 'DurForm']].dtypes)\n",
    "data[['Duration', 'durform', 'DurForm']]"
   ]
  },
  {
   "cell_type": "markdown",
   "metadata": {},
   "source": [
    "### Time trends"
   ]
  },
  {
   "cell_type": "code",
   "execution_count": 36,
   "metadata": {},
   "outputs": [
    {
     "data": {
      "text/html": [
       "<div>\n",
       "<style scoped>\n",
       "    .dataframe tbody tr th:only-of-type {\n",
       "        vertical-align: middle;\n",
       "    }\n",
       "\n",
       "    .dataframe tbody tr th {\n",
       "        vertical-align: top;\n",
       "    }\n",
       "\n",
       "    .dataframe thead th {\n",
       "        text-align: right;\n",
       "    }\n",
       "</style>\n",
       "<table border=\"1\" class=\"dataframe\">\n",
       "  <thead>\n",
       "    <tr style=\"text-align: right;\">\n",
       "      <th></th>\n",
       "      <th>Season</th>\n",
       "      <th>DurForm</th>\n",
       "    </tr>\n",
       "  </thead>\n",
       "  <tbody>\n",
       "    <tr>\n",
       "      <th>0</th>\n",
       "      <td>1</td>\n",
       "      <td>00:07:04</td>\n",
       "    </tr>\n",
       "    <tr>\n",
       "      <th>1</th>\n",
       "      <td>2</td>\n",
       "      <td>00:08:30</td>\n",
       "    </tr>\n",
       "    <tr>\n",
       "      <th>2</th>\n",
       "      <td>3</td>\n",
       "      <td>00:06:48</td>\n",
       "    </tr>\n",
       "    <tr>\n",
       "      <th>3</th>\n",
       "      <td>4</td>\n",
       "      <td>00:05:02</td>\n",
       "    </tr>\n",
       "    <tr>\n",
       "      <th>4</th>\n",
       "      <td>5</td>\n",
       "      <td>00:03:32</td>\n",
       "    </tr>\n",
       "    <tr>\n",
       "      <th>5</th>\n",
       "      <td>6</td>\n",
       "      <td>00:03:17</td>\n",
       "    </tr>\n",
       "    <tr>\n",
       "      <th>6</th>\n",
       "      <td>7</td>\n",
       "      <td>00:07:08</td>\n",
       "    </tr>\n",
       "  </tbody>\n",
       "</table>\n",
       "</div>"
      ],
      "text/plain": [
       "   Season  DurForm\n",
       "0       1 00:07:04\n",
       "1       2 00:08:30\n",
       "2       3 00:06:48\n",
       "3       4 00:05:02\n",
       "4       5 00:03:32\n",
       "5       6 00:03:17\n",
       "6       7 00:07:08"
      ]
     },
     "execution_count": 36,
     "metadata": {},
     "output_type": "execute_result"
    }
   ],
   "source": [
    "# Overall onscreen encounter time by season\n",
    "season = data.groupby(['Season'], as_index=False)[['DurForm']].agg('sum')\n",
    "season"
   ]
  },
  {
   "cell_type": "code",
   "execution_count": 45,
   "metadata": {},
   "outputs": [
    {
     "data": {
      "text/html": [
       "<div>\n",
       "<style scoped>\n",
       "    .dataframe tbody tr th:only-of-type {\n",
       "        vertical-align: middle;\n",
       "    }\n",
       "\n",
       "    .dataframe tbody tr th {\n",
       "        vertical-align: top;\n",
       "    }\n",
       "\n",
       "    .dataframe thead th {\n",
       "        text-align: right;\n",
       "    }\n",
       "</style>\n",
       "<table border=\"1\" class=\"dataframe\">\n",
       "  <thead>\n",
       "    <tr style=\"text-align: right;\">\n",
       "      <th></th>\n",
       "      <th>Season</th>\n",
       "      <th>DurForm</th>\n",
       "      <th>dur_sec</th>\n",
       "    </tr>\n",
       "  </thead>\n",
       "  <tbody>\n",
       "    <tr>\n",
       "      <th>0</th>\n",
       "      <td>1</td>\n",
       "      <td>00:07:04</td>\n",
       "      <td>424.0</td>\n",
       "    </tr>\n",
       "    <tr>\n",
       "      <th>1</th>\n",
       "      <td>2</td>\n",
       "      <td>00:08:30</td>\n",
       "      <td>510.0</td>\n",
       "    </tr>\n",
       "    <tr>\n",
       "      <th>2</th>\n",
       "      <td>3</td>\n",
       "      <td>00:06:48</td>\n",
       "      <td>408.0</td>\n",
       "    </tr>\n",
       "    <tr>\n",
       "      <th>3</th>\n",
       "      <td>4</td>\n",
       "      <td>00:05:02</td>\n",
       "      <td>302.0</td>\n",
       "    </tr>\n",
       "    <tr>\n",
       "      <th>4</th>\n",
       "      <td>5</td>\n",
       "      <td>00:03:32</td>\n",
       "      <td>212.0</td>\n",
       "    </tr>\n",
       "    <tr>\n",
       "      <th>5</th>\n",
       "      <td>6</td>\n",
       "      <td>00:03:17</td>\n",
       "      <td>197.0</td>\n",
       "    </tr>\n",
       "    <tr>\n",
       "      <th>6</th>\n",
       "      <td>7</td>\n",
       "      <td>00:07:08</td>\n",
       "      <td>428.0</td>\n",
       "    </tr>\n",
       "  </tbody>\n",
       "</table>\n",
       "</div>"
      ],
      "text/plain": [
       "   Season  DurForm  dur_sec\n",
       "0       1 00:07:04    424.0\n",
       "1       2 00:08:30    510.0\n",
       "2       3 00:06:48    408.0\n",
       "3       4 00:05:02    302.0\n",
       "4       5 00:03:32    212.0\n",
       "5       6 00:03:17    197.0\n",
       "6       7 00:07:08    428.0"
      ]
     },
     "execution_count": 45,
     "metadata": {},
     "output_type": "execute_result"
    }
   ],
   "source": [
    "# Total time in sec\n",
    "season['dur_sec'] = season['DurForm'] / np.timedelta64(1, 's')\n",
    "season"
   ]
  },
  {
   "cell_type": "code",
   "execution_count": 49,
   "metadata": {},
   "outputs": [
    {
     "data": {
      "text/plain": [
       "(0.0, 525650000000.0)"
      ]
     },
     "execution_count": 49,
     "metadata": {},
     "output_type": "execute_result"
    },
    {
     "data": {
      "image/png": "[encoded data removed]",
      "text/plain": [
       "<Figure size 1080x504 with 1 Axes>"
      ]
     },
     "metadata": {},
     "output_type": "display_data"
    }
   ],
   "source": [
    "# Plot by season\n",
    "fig, ax = plt.subplots(figsize=(15,7))\n",
    "data.groupby(['Season'])[['DurForm']].agg('sum').unstack().plot(ax=ax) #yaxis is nanoseconds in sci notation\n",
    "ax.set_ylim(ymin=0)"
   ]
  },
  {
   "cell_type": "code",
   "execution_count": 72,
   "metadata": {},
   "outputs": [
    {
     "data": {
      "text/html": [
       "<div>\n",
       "<style scoped>\n",
       "    .dataframe tbody tr th:only-of-type {\n",
       "        vertical-align: middle;\n",
       "    }\n",
       "\n",
       "    .dataframe tbody tr th {\n",
       "        vertical-align: top;\n",
       "    }\n",
       "\n",
       "    .dataframe thead th {\n",
       "        text-align: right;\n",
       "    }\n",
       "</style>\n",
       "<table border=\"1\" class=\"dataframe\">\n",
       "  <thead>\n",
       "    <tr style=\"text-align: right;\">\n",
       "      <th></th>\n",
       "      <th>Season</th>\n",
       "      <th>Queer</th>\n",
       "      <th>DurForm</th>\n",
       "      <th>dur_sec</th>\n",
       "    </tr>\n",
       "  </thead>\n",
       "  <tbody>\n",
       "    <tr>\n",
       "      <th>0</th>\n",
       "      <td>1</td>\n",
       "      <td>0</td>\n",
       "      <td>00:03:36</td>\n",
       "      <td>216.0</td>\n",
       "    </tr>\n",
       "    <tr>\n",
       "      <th>1</th>\n",
       "      <td>1</td>\n",
       "      <td>1</td>\n",
       "      <td>00:03:28</td>\n",
       "      <td>208.0</td>\n",
       "    </tr>\n",
       "    <tr>\n",
       "      <th>2</th>\n",
       "      <td>2</td>\n",
       "      <td>0</td>\n",
       "      <td>00:03:53</td>\n",
       "      <td>233.0</td>\n",
       "    </tr>\n",
       "    <tr>\n",
       "      <th>3</th>\n",
       "      <td>2</td>\n",
       "      <td>1</td>\n",
       "      <td>00:04:37</td>\n",
       "      <td>277.0</td>\n",
       "    </tr>\n",
       "    <tr>\n",
       "      <th>4</th>\n",
       "      <td>3</td>\n",
       "      <td>0</td>\n",
       "      <td>00:04:14</td>\n",
       "      <td>254.0</td>\n",
       "    </tr>\n",
       "    <tr>\n",
       "      <th>5</th>\n",
       "      <td>3</td>\n",
       "      <td>1</td>\n",
       "      <td>00:02:34</td>\n",
       "      <td>154.0</td>\n",
       "    </tr>\n",
       "    <tr>\n",
       "      <th>6</th>\n",
       "      <td>4</td>\n",
       "      <td>0</td>\n",
       "      <td>00:01:50</td>\n",
       "      <td>110.0</td>\n",
       "    </tr>\n",
       "    <tr>\n",
       "      <th>7</th>\n",
       "      <td>4</td>\n",
       "      <td>1</td>\n",
       "      <td>00:03:12</td>\n",
       "      <td>192.0</td>\n",
       "    </tr>\n",
       "    <tr>\n",
       "      <th>8</th>\n",
       "      <td>5</td>\n",
       "      <td>0</td>\n",
       "      <td>00:01:38</td>\n",
       "      <td>98.0</td>\n",
       "    </tr>\n",
       "    <tr>\n",
       "      <th>9</th>\n",
       "      <td>5</td>\n",
       "      <td>1</td>\n",
       "      <td>00:01:54</td>\n",
       "      <td>114.0</td>\n",
       "    </tr>\n",
       "    <tr>\n",
       "      <th>10</th>\n",
       "      <td>6</td>\n",
       "      <td>0</td>\n",
       "      <td>00:01:33</td>\n",
       "      <td>93.0</td>\n",
       "    </tr>\n",
       "    <tr>\n",
       "      <th>11</th>\n",
       "      <td>6</td>\n",
       "      <td>1</td>\n",
       "      <td>00:01:44</td>\n",
       "      <td>104.0</td>\n",
       "    </tr>\n",
       "    <tr>\n",
       "      <th>12</th>\n",
       "      <td>7</td>\n",
       "      <td>0</td>\n",
       "      <td>00:03:55</td>\n",
       "      <td>235.0</td>\n",
       "    </tr>\n",
       "    <tr>\n",
       "      <th>13</th>\n",
       "      <td>7</td>\n",
       "      <td>1</td>\n",
       "      <td>00:03:13</td>\n",
       "      <td>193.0</td>\n",
       "    </tr>\n",
       "  </tbody>\n",
       "</table>\n",
       "</div>"
      ],
      "text/plain": [
       "    Season  Queer  DurForm  dur_sec\n",
       "0        1      0 00:03:36    216.0\n",
       "1        1      1 00:03:28    208.0\n",
       "2        2      0 00:03:53    233.0\n",
       "3        2      1 00:04:37    277.0\n",
       "4        3      0 00:04:14    254.0\n",
       "5        3      1 00:02:34    154.0\n",
       "6        4      0 00:01:50    110.0\n",
       "7        4      1 00:03:12    192.0\n",
       "8        5      0 00:01:38     98.0\n",
       "9        5      1 00:01:54    114.0\n",
       "10       6      0 00:01:33     93.0\n",
       "11       6      1 00:01:44    104.0\n",
       "12       7      0 00:03:55    235.0\n",
       "13       7      1 00:03:13    193.0"
      ]
     },
     "execution_count": 72,
     "metadata": {},
     "output_type": "execute_result"
    }
   ],
   "source": [
    "# Split by queer onscreen encounters\n",
    "season = data.groupby(['Season', 'Queer'], as_index=False)[['DurForm']].agg('sum')\n",
    "# Add in total time in sec\n",
    "season['dur_sec'] = season['DurForm'] / np.timedelta64(1, 's')\n",
    "season"
   ]
  },
  {
   "cell_type": "code",
   "execution_count": 141,
   "metadata": {},
   "outputs": [
    {
     "data": {
      "text/plain": [
       "(0.0, 286200000000.0)"
      ]
     },
     "execution_count": 141,
     "metadata": {},
     "output_type": "execute_result"
    },
    {
     "data": {
      "image/png": "[encoded data removed]",
      "text/plain": [
       "<Figure size 1080x504 with 1 Axes>"
      ]
     },
     "metadata": {},
     "output_type": "display_data"
    }
   ],
   "source": [
    "# Plot by season\n",
    "#data.groupby(['Season', 'Queer'])[['DurForm']].agg('sum')\n",
    "\n",
    "fig, ax = plt.subplots(figsize=(15,7))\n",
    "data.groupby(['Season', 'Queer'])[['DurForm']].agg('sum').unstack().plot(ax=ax) #yaxis is nanoseconds in sci notation\n",
    "ax.set_ylim(ymin=0)"
   ]
  },
  {
   "cell_type": "markdown",
   "metadata": {},
   "source": [
    "So, overall onscreen sexual/romantic encounters decreased in S3-6, but then went back to the beginning level in S7. Queer/non-queer screen time was comperable in S1, S5, and S6. More Queer representation in S2, S4 and more non-queer representation in S3, S7"
   ]
  },
  {
   "cell_type": "code",
   "execution_count": 95,
   "metadata": {},
   "outputs": [
    {
     "name": "stdout",
     "output_type": "stream",
     "text": [
      "(116, 5)\n"
     ]
    },
    {
     "data": {
      "text/html": [
       "<div>\n",
       "<style scoped>\n",
       "    .dataframe tbody tr th:only-of-type {\n",
       "        vertical-align: middle;\n",
       "    }\n",
       "\n",
       "    .dataframe tbody tr th {\n",
       "        vertical-align: top;\n",
       "    }\n",
       "\n",
       "    .dataframe thead th {\n",
       "        text-align: right;\n",
       "    }\n",
       "</style>\n",
       "<table border=\"1\" class=\"dataframe\">\n",
       "  <thead>\n",
       "    <tr style=\"text-align: right;\">\n",
       "      <th></th>\n",
       "      <th>Season</th>\n",
       "      <th>Episode</th>\n",
       "      <th>Queer</th>\n",
       "      <th>DurForm</th>\n",
       "      <th>dur_sec</th>\n",
       "    </tr>\n",
       "  </thead>\n",
       "  <tbody>\n",
       "    <tr>\n",
       "      <th>0</th>\n",
       "      <td>1</td>\n",
       "      <td>1</td>\n",
       "      <td>0</td>\n",
       "      <td>00:00:55</td>\n",
       "      <td>55.0</td>\n",
       "    </tr>\n",
       "    <tr>\n",
       "      <th>1</th>\n",
       "      <td>1</td>\n",
       "      <td>1</td>\n",
       "      <td>1</td>\n",
       "      <td>00:01:10</td>\n",
       "      <td>70.0</td>\n",
       "    </tr>\n",
       "    <tr>\n",
       "      <th>2</th>\n",
       "      <td>1</td>\n",
       "      <td>2</td>\n",
       "      <td>0</td>\n",
       "      <td>00:00:31</td>\n",
       "      <td>31.0</td>\n",
       "    </tr>\n",
       "    <tr>\n",
       "      <th>3</th>\n",
       "      <td>1</td>\n",
       "      <td>2</td>\n",
       "      <td>1</td>\n",
       "      <td>00:00:08</td>\n",
       "      <td>8.0</td>\n",
       "    </tr>\n",
       "    <tr>\n",
       "      <th>4</th>\n",
       "      <td>1</td>\n",
       "      <td>3</td>\n",
       "      <td>0</td>\n",
       "      <td>00:00:04</td>\n",
       "      <td>4.0</td>\n",
       "    </tr>\n",
       "    <tr>\n",
       "      <th>...</th>\n",
       "      <td>...</td>\n",
       "      <td>...</td>\n",
       "      <td>...</td>\n",
       "      <td>...</td>\n",
       "      <td>...</td>\n",
       "    </tr>\n",
       "    <tr>\n",
       "      <th>111</th>\n",
       "      <td>7</td>\n",
       "      <td>11</td>\n",
       "      <td>1</td>\n",
       "      <td>00:00:06</td>\n",
       "      <td>6.0</td>\n",
       "    </tr>\n",
       "    <tr>\n",
       "      <th>112</th>\n",
       "      <td>7</td>\n",
       "      <td>12</td>\n",
       "      <td>0</td>\n",
       "      <td>00:00:37</td>\n",
       "      <td>37.0</td>\n",
       "    </tr>\n",
       "    <tr>\n",
       "      <th>113</th>\n",
       "      <td>7</td>\n",
       "      <td>12</td>\n",
       "      <td>1</td>\n",
       "      <td>00:00:18</td>\n",
       "      <td>18.0</td>\n",
       "    </tr>\n",
       "    <tr>\n",
       "      <th>114</th>\n",
       "      <td>7</td>\n",
       "      <td>13</td>\n",
       "      <td>0</td>\n",
       "      <td>00:00:01</td>\n",
       "      <td>1.0</td>\n",
       "    </tr>\n",
       "    <tr>\n",
       "      <th>115</th>\n",
       "      <td>7</td>\n",
       "      <td>13</td>\n",
       "      <td>1</td>\n",
       "      <td>00:00:02</td>\n",
       "      <td>2.0</td>\n",
       "    </tr>\n",
       "  </tbody>\n",
       "</table>\n",
       "<p>116 rows × 5 columns</p>\n",
       "</div>"
      ],
      "text/plain": [
       "     Season  Episode  Queer  DurForm  dur_sec\n",
       "0         1        1      0 00:00:55     55.0\n",
       "1         1        1      1 00:01:10     70.0\n",
       "2         1        2      0 00:00:31     31.0\n",
       "3         1        2      1 00:00:08      8.0\n",
       "4         1        3      0 00:00:04      4.0\n",
       "..      ...      ...    ...      ...      ...\n",
       "111       7       11      1 00:00:06      6.0\n",
       "112       7       12      0 00:00:37     37.0\n",
       "113       7       12      1 00:00:18     18.0\n",
       "114       7       13      0 00:00:01      1.0\n",
       "115       7       13      1 00:00:02      2.0\n",
       "\n",
       "[116 rows x 5 columns]"
      ]
     },
     "execution_count": 95,
     "metadata": {},
     "output_type": "execute_result"
    }
   ],
   "source": [
    "# By episode, and normalize\n",
    "\n",
    "# Split\n",
    "episode = data.groupby(['Season', 'Episode', 'Queer'], as_index=False)[['DurForm']].agg('sum')\n",
    "# Add in total time in sec\n",
    "episode['dur_sec'] = episode['DurForm'] / np.timedelta64(1, 's')\n",
    "print(episode.shape)\n",
    "episode"
   ]
  },
  {
   "cell_type": "code",
   "execution_count": 96,
   "metadata": {},
   "outputs": [
    {
     "data": {
      "text/html": [
       "<div>\n",
       "<style scoped>\n",
       "    .dataframe tbody tr th:only-of-type {\n",
       "        vertical-align: middle;\n",
       "    }\n",
       "\n",
       "    .dataframe tbody tr th {\n",
       "        vertical-align: top;\n",
       "    }\n",
       "\n",
       "    .dataframe thead th {\n",
       "        text-align: right;\n",
       "    }\n",
       "</style>\n",
       "<table border=\"1\" class=\"dataframe\">\n",
       "  <thead>\n",
       "    <tr style=\"text-align: right;\">\n",
       "      <th></th>\n",
       "      <th>Season</th>\n",
       "      <th>Episode</th>\n",
       "      <th>Title</th>\n",
       "      <th>EpLength</th>\n",
       "    </tr>\n",
       "  </thead>\n",
       "  <tbody>\n",
       "    <tr>\n",
       "      <th>0</th>\n",
       "      <td>1</td>\n",
       "      <td>1</td>\n",
       "      <td>I Wasn't Ready</td>\n",
       "      <td>0:52:15</td>\n",
       "    </tr>\n",
       "    <tr>\n",
       "      <th>1</th>\n",
       "      <td>1</td>\n",
       "      <td>2</td>\n",
       "      <td>Tit Punch</td>\n",
       "      <td>0:53:00</td>\n",
       "    </tr>\n",
       "    <tr>\n",
       "      <th>2</th>\n",
       "      <td>1</td>\n",
       "      <td>3</td>\n",
       "      <td>Lesbian Request Denied</td>\n",
       "      <td>0:57:31</td>\n",
       "    </tr>\n",
       "    <tr>\n",
       "      <th>3</th>\n",
       "      <td>1</td>\n",
       "      <td>4</td>\n",
       "      <td>Imaginary Enemies</td>\n",
       "      <td>0:55:20</td>\n",
       "    </tr>\n",
       "    <tr>\n",
       "      <th>4</th>\n",
       "      <td>1</td>\n",
       "      <td>5</td>\n",
       "      <td>The Chickening</td>\n",
       "      <td>0:55:28</td>\n",
       "    </tr>\n",
       "    <tr>\n",
       "      <th>...</th>\n",
       "      <td>...</td>\n",
       "      <td>...</td>\n",
       "      <td>...</td>\n",
       "      <td>...</td>\n",
       "    </tr>\n",
       "    <tr>\n",
       "      <th>86</th>\n",
       "      <td>7</td>\n",
       "      <td>9</td>\n",
       "      <td>The Hidey Hole</td>\n",
       "      <td>1:00:26</td>\n",
       "    </tr>\n",
       "    <tr>\n",
       "      <th>87</th>\n",
       "      <td>7</td>\n",
       "      <td>10</td>\n",
       "      <td>The Thirteenth</td>\n",
       "      <td>1:00:54</td>\n",
       "    </tr>\n",
       "    <tr>\n",
       "      <th>88</th>\n",
       "      <td>7</td>\n",
       "      <td>11</td>\n",
       "      <td>God Bless America</td>\n",
       "      <td>1:01:11</td>\n",
       "    </tr>\n",
       "    <tr>\n",
       "      <th>89</th>\n",
       "      <td>7</td>\n",
       "      <td>12</td>\n",
       "      <td>The Big House</td>\n",
       "      <td>1:15:45</td>\n",
       "    </tr>\n",
       "    <tr>\n",
       "      <th>90</th>\n",
       "      <td>7</td>\n",
       "      <td>13</td>\n",
       "      <td>Here's Where We Get Off</td>\n",
       "      <td>1:29:49</td>\n",
       "    </tr>\n",
       "  </tbody>\n",
       "</table>\n",
       "<p>91 rows × 4 columns</p>\n",
       "</div>"
      ],
      "text/plain": [
       "    Season  Episode                    Title EpLength\n",
       "0        1        1           I Wasn't Ready  0:52:15\n",
       "1        1        2                Tit Punch  0:53:00\n",
       "2        1        3   Lesbian Request Denied  0:57:31\n",
       "3        1        4        Imaginary Enemies  0:55:20\n",
       "4        1        5           The Chickening  0:55:28\n",
       "..     ...      ...                      ...      ...\n",
       "86       7        9           The Hidey Hole  1:00:26\n",
       "87       7       10           The Thirteenth  1:00:54\n",
       "88       7       11        God Bless America  1:01:11\n",
       "89       7       12            The Big House  1:15:45\n",
       "90       7       13  Here's Where We Get Off  1:29:49\n",
       "\n",
       "[91 rows x 4 columns]"
      ]
     },
     "execution_count": 96,
     "metadata": {},
     "output_type": "execute_result"
    }
   ],
   "source": [
    "# Import episode length data\n",
    "eplen = pd.read_csv('../Data/OITNB_Episode_Length.csv')\n",
    "eplen"
   ]
  },
  {
   "cell_type": "code",
   "execution_count": 100,
   "metadata": {},
   "outputs": [
    {
     "name": "stdout",
     "output_type": "stream",
     "text": [
      "EpLength                 object\n",
      "EpLengthForm    timedelta64[ns]\n",
      "EpLength_sec            float64\n",
      "dtype: object\n"
     ]
    },
    {
     "data": {
      "text/html": [
       "<div>\n",
       "<style scoped>\n",
       "    .dataframe tbody tr th:only-of-type {\n",
       "        vertical-align: middle;\n",
       "    }\n",
       "\n",
       "    .dataframe tbody tr th {\n",
       "        vertical-align: top;\n",
       "    }\n",
       "\n",
       "    .dataframe thead th {\n",
       "        text-align: right;\n",
       "    }\n",
       "</style>\n",
       "<table border=\"1\" class=\"dataframe\">\n",
       "  <thead>\n",
       "    <tr style=\"text-align: right;\">\n",
       "      <th></th>\n",
       "      <th>Season</th>\n",
       "      <th>Episode</th>\n",
       "      <th>Title</th>\n",
       "      <th>EpLength</th>\n",
       "      <th>eplenform</th>\n",
       "      <th>EpLengthForm</th>\n",
       "      <th>EpLength_sec</th>\n",
       "      <th>Queer</th>\n",
       "    </tr>\n",
       "  </thead>\n",
       "  <tbody>\n",
       "    <tr>\n",
       "      <th>0</th>\n",
       "      <td>1</td>\n",
       "      <td>1</td>\n",
       "      <td>I Wasn't Ready</td>\n",
       "      <td>0:52:15</td>\n",
       "      <td>00:52:15</td>\n",
       "      <td>00:52:15</td>\n",
       "      <td>3135.0</td>\n",
       "      <td>0</td>\n",
       "    </tr>\n",
       "    <tr>\n",
       "      <th>1</th>\n",
       "      <td>1</td>\n",
       "      <td>2</td>\n",
       "      <td>Tit Punch</td>\n",
       "      <td>0:53:00</td>\n",
       "      <td>00:53:00</td>\n",
       "      <td>00:53:00</td>\n",
       "      <td>3180.0</td>\n",
       "      <td>0</td>\n",
       "    </tr>\n",
       "    <tr>\n",
       "      <th>2</th>\n",
       "      <td>1</td>\n",
       "      <td>3</td>\n",
       "      <td>Lesbian Request Denied</td>\n",
       "      <td>0:57:31</td>\n",
       "      <td>00:57:31</td>\n",
       "      <td>00:57:31</td>\n",
       "      <td>3451.0</td>\n",
       "      <td>0</td>\n",
       "    </tr>\n",
       "    <tr>\n",
       "      <th>3</th>\n",
       "      <td>1</td>\n",
       "      <td>4</td>\n",
       "      <td>Imaginary Enemies</td>\n",
       "      <td>0:55:20</td>\n",
       "      <td>00:55:20</td>\n",
       "      <td>00:55:20</td>\n",
       "      <td>3320.0</td>\n",
       "      <td>0</td>\n",
       "    </tr>\n",
       "    <tr>\n",
       "      <th>4</th>\n",
       "      <td>1</td>\n",
       "      <td>5</td>\n",
       "      <td>The Chickening</td>\n",
       "      <td>0:55:28</td>\n",
       "      <td>00:55:28</td>\n",
       "      <td>00:55:28</td>\n",
       "      <td>3328.0</td>\n",
       "      <td>0</td>\n",
       "    </tr>\n",
       "    <tr>\n",
       "      <th>...</th>\n",
       "      <td>...</td>\n",
       "      <td>...</td>\n",
       "      <td>...</td>\n",
       "      <td>...</td>\n",
       "      <td>...</td>\n",
       "      <td>...</td>\n",
       "      <td>...</td>\n",
       "      <td>...</td>\n",
       "    </tr>\n",
       "    <tr>\n",
       "      <th>86</th>\n",
       "      <td>7</td>\n",
       "      <td>9</td>\n",
       "      <td>The Hidey Hole</td>\n",
       "      <td>1:00:26</td>\n",
       "      <td>01:00:26</td>\n",
       "      <td>01:00:26</td>\n",
       "      <td>3626.0</td>\n",
       "      <td>0</td>\n",
       "    </tr>\n",
       "    <tr>\n",
       "      <th>87</th>\n",
       "      <td>7</td>\n",
       "      <td>10</td>\n",
       "      <td>The Thirteenth</td>\n",
       "      <td>1:00:54</td>\n",
       "      <td>01:00:54</td>\n",
       "      <td>01:00:54</td>\n",
       "      <td>3654.0</td>\n",
       "      <td>0</td>\n",
       "    </tr>\n",
       "    <tr>\n",
       "      <th>88</th>\n",
       "      <td>7</td>\n",
       "      <td>11</td>\n",
       "      <td>God Bless America</td>\n",
       "      <td>1:01:11</td>\n",
       "      <td>01:01:11</td>\n",
       "      <td>01:01:11</td>\n",
       "      <td>3671.0</td>\n",
       "      <td>0</td>\n",
       "    </tr>\n",
       "    <tr>\n",
       "      <th>89</th>\n",
       "      <td>7</td>\n",
       "      <td>12</td>\n",
       "      <td>The Big House</td>\n",
       "      <td>1:15:45</td>\n",
       "      <td>01:15:45</td>\n",
       "      <td>01:15:45</td>\n",
       "      <td>4545.0</td>\n",
       "      <td>0</td>\n",
       "    </tr>\n",
       "    <tr>\n",
       "      <th>90</th>\n",
       "      <td>7</td>\n",
       "      <td>13</td>\n",
       "      <td>Here's Where We Get Off</td>\n",
       "      <td>1:29:49</td>\n",
       "      <td>01:29:49</td>\n",
       "      <td>01:29:49</td>\n",
       "      <td>5389.0</td>\n",
       "      <td>0</td>\n",
       "    </tr>\n",
       "  </tbody>\n",
       "</table>\n",
       "<p>91 rows × 8 columns</p>\n",
       "</div>"
      ],
      "text/plain": [
       "    Season  Episode                    Title EpLength eplenform EpLengthForm  \\\n",
       "0        1        1           I Wasn't Ready  0:52:15  00:52:15     00:52:15   \n",
       "1        1        2                Tit Punch  0:53:00  00:53:00     00:53:00   \n",
       "2        1        3   Lesbian Request Denied  0:57:31  00:57:31     00:57:31   \n",
       "3        1        4        Imaginary Enemies  0:55:20  00:55:20     00:55:20   \n",
       "4        1        5           The Chickening  0:55:28  00:55:28     00:55:28   \n",
       "..     ...      ...                      ...      ...       ...          ...   \n",
       "86       7        9           The Hidey Hole  1:00:26  01:00:26     01:00:26   \n",
       "87       7       10           The Thirteenth  1:00:54  01:00:54     01:00:54   \n",
       "88       7       11        God Bless America  1:01:11  01:01:11     01:01:11   \n",
       "89       7       12            The Big House  1:15:45  01:15:45     01:15:45   \n",
       "90       7       13  Here's Where We Get Off  1:29:49  01:29:49     01:29:49   \n",
       "\n",
       "    EpLength_sec  Queer  \n",
       "0         3135.0      0  \n",
       "1         3180.0      0  \n",
       "2         3451.0      0  \n",
       "3         3320.0      0  \n",
       "4         3328.0      0  \n",
       "..           ...    ...  \n",
       "86        3626.0      0  \n",
       "87        3654.0      0  \n",
       "88        3671.0      0  \n",
       "89        4545.0      0  \n",
       "90        5389.0      0  \n",
       "\n",
       "[91 rows x 8 columns]"
      ]
     },
     "execution_count": 100,
     "metadata": {},
     "output_type": "execute_result"
    }
   ],
   "source": [
    "# Format duration\n",
    "eplen['eplenform'] = pd.to_datetime(eplen['EpLength'], format='%H:%M:%S').dt.strftime('%H:%M:%S')\n",
    "eplen['EpLengthForm'] = pd.to_timedelta(eplen.eplenform)\n",
    "\n",
    "# Add in total time in sec\n",
    "eplen['EpLength_sec'] = eplen['EpLengthForm'] / np.timedelta64(1, 's')\n",
    "\n",
    "print(eplen[['EpLength', 'EpLengthForm', 'EpLength_sec']].dtypes)\n",
    "eplen[['EpLength', 'EpLengthForm', 'EpLength_sec']]\n",
    "eplen"
   ]
  },
  {
   "cell_type": "code",
   "execution_count": 108,
   "metadata": {},
   "outputs": [
    {
     "data": {
      "text/html": [
       "<div>\n",
       "<style scoped>\n",
       "    .dataframe tbody tr th:only-of-type {\n",
       "        vertical-align: middle;\n",
       "    }\n",
       "\n",
       "    .dataframe tbody tr th {\n",
       "        vertical-align: top;\n",
       "    }\n",
       "\n",
       "    .dataframe thead th {\n",
       "        text-align: right;\n",
       "    }\n",
       "</style>\n",
       "<table border=\"1\" class=\"dataframe\">\n",
       "  <thead>\n",
       "    <tr style=\"text-align: right;\">\n",
       "      <th></th>\n",
       "      <th>Season</th>\n",
       "      <th>Episode</th>\n",
       "      <th>Title</th>\n",
       "      <th>EpLength</th>\n",
       "      <th>eplenform</th>\n",
       "      <th>EpLengthForm</th>\n",
       "      <th>EpLength_sec</th>\n",
       "      <th>Queer</th>\n",
       "    </tr>\n",
       "  </thead>\n",
       "  <tbody>\n",
       "    <tr>\n",
       "      <th>0</th>\n",
       "      <td>1</td>\n",
       "      <td>1</td>\n",
       "      <td>I Wasn't Ready</td>\n",
       "      <td>0:52:15</td>\n",
       "      <td>00:52:15</td>\n",
       "      <td>00:52:15</td>\n",
       "      <td>3135.0</td>\n",
       "      <td>0</td>\n",
       "    </tr>\n",
       "    <tr>\n",
       "      <th>0</th>\n",
       "      <td>1</td>\n",
       "      <td>1</td>\n",
       "      <td>I Wasn't Ready</td>\n",
       "      <td>0:52:15</td>\n",
       "      <td>00:52:15</td>\n",
       "      <td>00:52:15</td>\n",
       "      <td>3135.0</td>\n",
       "      <td>1</td>\n",
       "    </tr>\n",
       "    <tr>\n",
       "      <th>1</th>\n",
       "      <td>1</td>\n",
       "      <td>2</td>\n",
       "      <td>Tit Punch</td>\n",
       "      <td>0:53:00</td>\n",
       "      <td>00:53:00</td>\n",
       "      <td>00:53:00</td>\n",
       "      <td>3180.0</td>\n",
       "      <td>0</td>\n",
       "    </tr>\n",
       "    <tr>\n",
       "      <th>1</th>\n",
       "      <td>1</td>\n",
       "      <td>2</td>\n",
       "      <td>Tit Punch</td>\n",
       "      <td>0:53:00</td>\n",
       "      <td>00:53:00</td>\n",
       "      <td>00:53:00</td>\n",
       "      <td>3180.0</td>\n",
       "      <td>1</td>\n",
       "    </tr>\n",
       "    <tr>\n",
       "      <th>2</th>\n",
       "      <td>1</td>\n",
       "      <td>3</td>\n",
       "      <td>Lesbian Request Denied</td>\n",
       "      <td>0:57:31</td>\n",
       "      <td>00:57:31</td>\n",
       "      <td>00:57:31</td>\n",
       "      <td>3451.0</td>\n",
       "      <td>0</td>\n",
       "    </tr>\n",
       "    <tr>\n",
       "      <th>...</th>\n",
       "      <td>...</td>\n",
       "      <td>...</td>\n",
       "      <td>...</td>\n",
       "      <td>...</td>\n",
       "      <td>...</td>\n",
       "      <td>...</td>\n",
       "      <td>...</td>\n",
       "      <td>...</td>\n",
       "    </tr>\n",
       "    <tr>\n",
       "      <th>88</th>\n",
       "      <td>7</td>\n",
       "      <td>11</td>\n",
       "      <td>God Bless America</td>\n",
       "      <td>1:01:11</td>\n",
       "      <td>01:01:11</td>\n",
       "      <td>01:01:11</td>\n",
       "      <td>3671.0</td>\n",
       "      <td>1</td>\n",
       "    </tr>\n",
       "    <tr>\n",
       "      <th>89</th>\n",
       "      <td>7</td>\n",
       "      <td>12</td>\n",
       "      <td>The Big House</td>\n",
       "      <td>1:15:45</td>\n",
       "      <td>01:15:45</td>\n",
       "      <td>01:15:45</td>\n",
       "      <td>4545.0</td>\n",
       "      <td>0</td>\n",
       "    </tr>\n",
       "    <tr>\n",
       "      <th>89</th>\n",
       "      <td>7</td>\n",
       "      <td>12</td>\n",
       "      <td>The Big House</td>\n",
       "      <td>1:15:45</td>\n",
       "      <td>01:15:45</td>\n",
       "      <td>01:15:45</td>\n",
       "      <td>4545.0</td>\n",
       "      <td>1</td>\n",
       "    </tr>\n",
       "    <tr>\n",
       "      <th>90</th>\n",
       "      <td>7</td>\n",
       "      <td>13</td>\n",
       "      <td>Here's Where We Get Off</td>\n",
       "      <td>1:29:49</td>\n",
       "      <td>01:29:49</td>\n",
       "      <td>01:29:49</td>\n",
       "      <td>5389.0</td>\n",
       "      <td>0</td>\n",
       "    </tr>\n",
       "    <tr>\n",
       "      <th>90</th>\n",
       "      <td>7</td>\n",
       "      <td>13</td>\n",
       "      <td>Here's Where We Get Off</td>\n",
       "      <td>1:29:49</td>\n",
       "      <td>01:29:49</td>\n",
       "      <td>01:29:49</td>\n",
       "      <td>5389.0</td>\n",
       "      <td>1</td>\n",
       "    </tr>\n",
       "  </tbody>\n",
       "</table>\n",
       "<p>182 rows × 8 columns</p>\n",
       "</div>"
      ],
      "text/plain": [
       "    Season  Episode                    Title EpLength eplenform EpLengthForm  \\\n",
       "0        1        1           I Wasn't Ready  0:52:15  00:52:15     00:52:15   \n",
       "0        1        1           I Wasn't Ready  0:52:15  00:52:15     00:52:15   \n",
       "1        1        2                Tit Punch  0:53:00  00:53:00     00:53:00   \n",
       "1        1        2                Tit Punch  0:53:00  00:53:00     00:53:00   \n",
       "2        1        3   Lesbian Request Denied  0:57:31  00:57:31     00:57:31   \n",
       "..     ...      ...                      ...      ...       ...          ...   \n",
       "88       7       11        God Bless America  1:01:11  01:01:11     01:01:11   \n",
       "89       7       12            The Big House  1:15:45  01:15:45     01:15:45   \n",
       "89       7       12            The Big House  1:15:45  01:15:45     01:15:45   \n",
       "90       7       13  Here's Where We Get Off  1:29:49  01:29:49     01:29:49   \n",
       "90       7       13  Here's Where We Get Off  1:29:49  01:29:49     01:29:49   \n",
       "\n",
       "    EpLength_sec  Queer  \n",
       "0         3135.0      0  \n",
       "0         3135.0      1  \n",
       "1         3180.0      0  \n",
       "1         3180.0      1  \n",
       "2         3451.0      0  \n",
       "..           ...    ...  \n",
       "88        3671.0      1  \n",
       "89        4545.0      0  \n",
       "89        4545.0      1  \n",
       "90        5389.0      0  \n",
       "90        5389.0      1  \n",
       "\n",
       "[182 rows x 8 columns]"
      ]
     },
     "execution_count": 108,
     "metadata": {},
     "output_type": "execute_result"
    }
   ],
   "source": [
    "#Duplicate eplen set to have 2 rows per episodes (1 queer and 1 non-queer)\n",
    "eplen2 = eplen.copy()\n",
    "eplen2\n",
    "# Assign queer vars\n",
    "eplen['Queer'] = 0\n",
    "eplen2['Queer'] = 1\n",
    "# Concatinate\n",
    "eplens = pd.concat([eplen, eplen2])\n",
    "eplens = eplens.sort_values(by=['Season', 'Episode'])\n",
    "eplens"
   ]
  },
  {
   "cell_type": "code",
   "execution_count": 114,
   "metadata": {},
   "outputs": [
    {
     "data": {
      "text/html": [
       "<div>\n",
       "<style scoped>\n",
       "    .dataframe tbody tr th:only-of-type {\n",
       "        vertical-align: middle;\n",
       "    }\n",
       "\n",
       "    .dataframe tbody tr th {\n",
       "        vertical-align: top;\n",
       "    }\n",
       "\n",
       "    .dataframe thead th {\n",
       "        text-align: right;\n",
       "    }\n",
       "</style>\n",
       "<table border=\"1\" class=\"dataframe\">\n",
       "  <thead>\n",
       "    <tr style=\"text-align: right;\">\n",
       "      <th></th>\n",
       "      <th>Season</th>\n",
       "      <th>Episode</th>\n",
       "      <th>Queer</th>\n",
       "      <th>dur_sec</th>\n",
       "      <th>Title</th>\n",
       "      <th>EpLength_sec</th>\n",
       "    </tr>\n",
       "  </thead>\n",
       "  <tbody>\n",
       "    <tr>\n",
       "      <th>172</th>\n",
       "      <td>6</td>\n",
       "      <td>12</td>\n",
       "      <td>0</td>\n",
       "      <td>0.0</td>\n",
       "      <td>Double Trouble</td>\n",
       "      <td>3610.0</td>\n",
       "    </tr>\n",
       "    <tr>\n",
       "      <th>96</th>\n",
       "      <td>6</td>\n",
       "      <td>12</td>\n",
       "      <td>1</td>\n",
       "      <td>2.0</td>\n",
       "      <td>Double Trouble</td>\n",
       "      <td>3610.0</td>\n",
       "    </tr>\n",
       "    <tr>\n",
       "      <th>173</th>\n",
       "      <td>6</td>\n",
       "      <td>13</td>\n",
       "      <td>0</td>\n",
       "      <td>0.0</td>\n",
       "      <td>Be Free</td>\n",
       "      <td>5109.0</td>\n",
       "    </tr>\n",
       "    <tr>\n",
       "      <th>97</th>\n",
       "      <td>6</td>\n",
       "      <td>13</td>\n",
       "      <td>1</td>\n",
       "      <td>10.0</td>\n",
       "      <td>Be Free</td>\n",
       "      <td>5109.0</td>\n",
       "    </tr>\n",
       "    <tr>\n",
       "      <th>98</th>\n",
       "      <td>7</td>\n",
       "      <td>1</td>\n",
       "      <td>0</td>\n",
       "      <td>41.0</td>\n",
       "      <td>Beginning of the End</td>\n",
       "      <td>3324.0</td>\n",
       "    </tr>\n",
       "    <tr>\n",
       "      <th>99</th>\n",
       "      <td>7</td>\n",
       "      <td>1</td>\n",
       "      <td>1</td>\n",
       "      <td>7.0</td>\n",
       "      <td>Beginning of the End</td>\n",
       "      <td>3324.0</td>\n",
       "    </tr>\n",
       "    <tr>\n",
       "      <th>100</th>\n",
       "      <td>7</td>\n",
       "      <td>2</td>\n",
       "      <td>0</td>\n",
       "      <td>19.0</td>\n",
       "      <td>Just Desserts</td>\n",
       "      <td>3392.0</td>\n",
       "    </tr>\n",
       "    <tr>\n",
       "      <th>174</th>\n",
       "      <td>7</td>\n",
       "      <td>2</td>\n",
       "      <td>1</td>\n",
       "      <td>0.0</td>\n",
       "      <td>Just Desserts</td>\n",
       "      <td>3392.0</td>\n",
       "    </tr>\n",
       "    <tr>\n",
       "      <th>101</th>\n",
       "      <td>7</td>\n",
       "      <td>3</td>\n",
       "      <td>0</td>\n",
       "      <td>6.0</td>\n",
       "      <td>And Brown Is the New Orange</td>\n",
       "      <td>3658.0</td>\n",
       "    </tr>\n",
       "    <tr>\n",
       "      <th>175</th>\n",
       "      <td>7</td>\n",
       "      <td>3</td>\n",
       "      <td>1</td>\n",
       "      <td>0.0</td>\n",
       "      <td>And Brown Is the New Orange</td>\n",
       "      <td>3658.0</td>\n",
       "    </tr>\n",
       "    <tr>\n",
       "      <th>176</th>\n",
       "      <td>7</td>\n",
       "      <td>4</td>\n",
       "      <td>0</td>\n",
       "      <td>0.0</td>\n",
       "      <td>How to Do Life</td>\n",
       "      <td>3663.0</td>\n",
       "    </tr>\n",
       "    <tr>\n",
       "      <th>177</th>\n",
       "      <td>7</td>\n",
       "      <td>4</td>\n",
       "      <td>1</td>\n",
       "      <td>0.0</td>\n",
       "      <td>How to Do Life</td>\n",
       "      <td>3663.0</td>\n",
       "    </tr>\n",
       "    <tr>\n",
       "      <th>102</th>\n",
       "      <td>7</td>\n",
       "      <td>5</td>\n",
       "      <td>0</td>\n",
       "      <td>13.0</td>\n",
       "      <td>Minority Deport</td>\n",
       "      <td>3671.0</td>\n",
       "    </tr>\n",
       "    <tr>\n",
       "      <th>178</th>\n",
       "      <td>7</td>\n",
       "      <td>5</td>\n",
       "      <td>1</td>\n",
       "      <td>0.0</td>\n",
       "      <td>Minority Deport</td>\n",
       "      <td>3671.0</td>\n",
       "    </tr>\n",
       "    <tr>\n",
       "      <th>103</th>\n",
       "      <td>7</td>\n",
       "      <td>6</td>\n",
       "      <td>0</td>\n",
       "      <td>69.0</td>\n",
       "      <td>Trapped in an Elevator</td>\n",
       "      <td>3626.0</td>\n",
       "    </tr>\n",
       "    <tr>\n",
       "      <th>179</th>\n",
       "      <td>7</td>\n",
       "      <td>6</td>\n",
       "      <td>1</td>\n",
       "      <td>0.0</td>\n",
       "      <td>Trapped in an Elevator</td>\n",
       "      <td>3626.0</td>\n",
       "    </tr>\n",
       "    <tr>\n",
       "      <th>104</th>\n",
       "      <td>7</td>\n",
       "      <td>7</td>\n",
       "      <td>0</td>\n",
       "      <td>32.0</td>\n",
       "      <td>Me as Well</td>\n",
       "      <td>3666.0</td>\n",
       "    </tr>\n",
       "    <tr>\n",
       "      <th>105</th>\n",
       "      <td>7</td>\n",
       "      <td>7</td>\n",
       "      <td>1</td>\n",
       "      <td>82.0</td>\n",
       "      <td>Me as Well</td>\n",
       "      <td>3666.0</td>\n",
       "    </tr>\n",
       "    <tr>\n",
       "      <th>106</th>\n",
       "      <td>7</td>\n",
       "      <td>8</td>\n",
       "      <td>0</td>\n",
       "      <td>1.0</td>\n",
       "      <td>Baker's Dozen</td>\n",
       "      <td>3674.0</td>\n",
       "    </tr>\n",
       "    <tr>\n",
       "      <th>107</th>\n",
       "      <td>7</td>\n",
       "      <td>8</td>\n",
       "      <td>1</td>\n",
       "      <td>14.0</td>\n",
       "      <td>Baker's Dozen</td>\n",
       "      <td>3674.0</td>\n",
       "    </tr>\n",
       "    <tr>\n",
       "      <th>108</th>\n",
       "      <td>7</td>\n",
       "      <td>9</td>\n",
       "      <td>0</td>\n",
       "      <td>16.0</td>\n",
       "      <td>The Hidey Hole</td>\n",
       "      <td>3626.0</td>\n",
       "    </tr>\n",
       "    <tr>\n",
       "      <th>109</th>\n",
       "      <td>7</td>\n",
       "      <td>9</td>\n",
       "      <td>1</td>\n",
       "      <td>34.0</td>\n",
       "      <td>The Hidey Hole</td>\n",
       "      <td>3626.0</td>\n",
       "    </tr>\n",
       "    <tr>\n",
       "      <th>180</th>\n",
       "      <td>7</td>\n",
       "      <td>10</td>\n",
       "      <td>0</td>\n",
       "      <td>0.0</td>\n",
       "      <td>The Thirteenth</td>\n",
       "      <td>3654.0</td>\n",
       "    </tr>\n",
       "    <tr>\n",
       "      <th>110</th>\n",
       "      <td>7</td>\n",
       "      <td>10</td>\n",
       "      <td>1</td>\n",
       "      <td>30.0</td>\n",
       "      <td>The Thirteenth</td>\n",
       "      <td>3654.0</td>\n",
       "    </tr>\n",
       "    <tr>\n",
       "      <th>181</th>\n",
       "      <td>7</td>\n",
       "      <td>11</td>\n",
       "      <td>0</td>\n",
       "      <td>0.0</td>\n",
       "      <td>God Bless America</td>\n",
       "      <td>3671.0</td>\n",
       "    </tr>\n",
       "    <tr>\n",
       "      <th>111</th>\n",
       "      <td>7</td>\n",
       "      <td>11</td>\n",
       "      <td>1</td>\n",
       "      <td>6.0</td>\n",
       "      <td>God Bless America</td>\n",
       "      <td>3671.0</td>\n",
       "    </tr>\n",
       "    <tr>\n",
       "      <th>112</th>\n",
       "      <td>7</td>\n",
       "      <td>12</td>\n",
       "      <td>0</td>\n",
       "      <td>37.0</td>\n",
       "      <td>The Big House</td>\n",
       "      <td>4545.0</td>\n",
       "    </tr>\n",
       "    <tr>\n",
       "      <th>113</th>\n",
       "      <td>7</td>\n",
       "      <td>12</td>\n",
       "      <td>1</td>\n",
       "      <td>18.0</td>\n",
       "      <td>The Big House</td>\n",
       "      <td>4545.0</td>\n",
       "    </tr>\n",
       "    <tr>\n",
       "      <th>114</th>\n",
       "      <td>7</td>\n",
       "      <td>13</td>\n",
       "      <td>0</td>\n",
       "      <td>1.0</td>\n",
       "      <td>Here's Where We Get Off</td>\n",
       "      <td>5389.0</td>\n",
       "    </tr>\n",
       "    <tr>\n",
       "      <th>115</th>\n",
       "      <td>7</td>\n",
       "      <td>13</td>\n",
       "      <td>1</td>\n",
       "      <td>2.0</td>\n",
       "      <td>Here's Where We Get Off</td>\n",
       "      <td>5389.0</td>\n",
       "    </tr>\n",
       "  </tbody>\n",
       "</table>\n",
       "</div>"
      ],
      "text/plain": [
       "     Season  Episode  Queer  dur_sec                        Title  \\\n",
       "172       6       12      0      0.0               Double Trouble   \n",
       "96        6       12      1      2.0               Double Trouble   \n",
       "173       6       13      0      0.0                      Be Free   \n",
       "97        6       13      1     10.0                      Be Free   \n",
       "98        7        1      0     41.0         Beginning of the End   \n",
       "99        7        1      1      7.0         Beginning of the End   \n",
       "100       7        2      0     19.0                Just Desserts   \n",
       "174       7        2      1      0.0                Just Desserts   \n",
       "101       7        3      0      6.0  And Brown Is the New Orange   \n",
       "175       7        3      1      0.0  And Brown Is the New Orange   \n",
       "176       7        4      0      0.0               How to Do Life   \n",
       "177       7        4      1      0.0               How to Do Life   \n",
       "102       7        5      0     13.0              Minority Deport   \n",
       "178       7        5      1      0.0              Minority Deport   \n",
       "103       7        6      0     69.0       Trapped in an Elevator   \n",
       "179       7        6      1      0.0       Trapped in an Elevator   \n",
       "104       7        7      0     32.0                   Me as Well   \n",
       "105       7        7      1     82.0                   Me as Well   \n",
       "106       7        8      0      1.0                Baker's Dozen   \n",
       "107       7        8      1     14.0                Baker's Dozen   \n",
       "108       7        9      0     16.0               The Hidey Hole   \n",
       "109       7        9      1     34.0               The Hidey Hole   \n",
       "180       7       10      0      0.0               The Thirteenth   \n",
       "110       7       10      1     30.0               The Thirteenth   \n",
       "181       7       11      0      0.0            God Bless America   \n",
       "111       7       11      1      6.0            God Bless America   \n",
       "112       7       12      0     37.0                The Big House   \n",
       "113       7       12      1     18.0                The Big House   \n",
       "114       7       13      0      1.0      Here's Where We Get Off   \n",
       "115       7       13      1      2.0      Here's Where We Get Off   \n",
       "\n",
       "     EpLength_sec  \n",
       "172        3610.0  \n",
       "96         3610.0  \n",
       "173        5109.0  \n",
       "97         5109.0  \n",
       "98         3324.0  \n",
       "99         3324.0  \n",
       "100        3392.0  \n",
       "174        3392.0  \n",
       "101        3658.0  \n",
       "175        3658.0  \n",
       "176        3663.0  \n",
       "177        3663.0  \n",
       "102        3671.0  \n",
       "178        3671.0  \n",
       "103        3626.0  \n",
       "179        3626.0  \n",
       "104        3666.0  \n",
       "105        3666.0  \n",
       "106        3674.0  \n",
       "107        3674.0  \n",
       "108        3626.0  \n",
       "109        3626.0  \n",
       "180        3654.0  \n",
       "110        3654.0  \n",
       "181        3671.0  \n",
       "111        3671.0  \n",
       "112        4545.0  \n",
       "113        4545.0  \n",
       "114        5389.0  \n",
       "115        5389.0  "
      ]
     },
     "execution_count": 114,
     "metadata": {},
     "output_type": "execute_result"
    }
   ],
   "source": [
    "## Merge with grouped episode data - want dataset with 2 rows for each dataset, 1 for queer dur and 1 for non-queer (n=182)\n",
    "# Merge 1\n",
    "allepisodes = pd.merge(episode, eplens, how='outer', on=['Season', 'Episode', 'Queer'])\n",
    "# Drop formatted time vars (keep only sec integers)\n",
    "allepisodes = allepisodes.drop(columns=['DurForm', 'EpLength', 'eplenform', 'EpLengthForm'])\n",
    "# Fill missing time as 0\n",
    "allepisodes = allepisodes.fillna(0)\n",
    "# Sort\n",
    "allepisodes = allepisodes.sort_values(by=['Season', 'Episode', 'Queer'])\n",
    "\n",
    "allepisodes.tail(30)"
   ]
  },
  {
   "cell_type": "code",
   "execution_count": 158,
   "metadata": {},
   "outputs": [
    {
     "name": "stdout",
     "output_type": "stream",
     "text": [
      "[1.07692308 1.15384615 1.23076923 1.30769231 1.38461538 1.46153846\n",
      " 1.53846154 1.61538462 1.69230769 1.76923077 1.84615385 1.92307692\n",
      " 2.         2.07692308 2.15384615 2.23076923 2.30769231 2.38461538\n",
      " 2.46153846 2.53846154 2.61538462 2.69230769 2.76923077 2.84615385\n",
      " 2.92307692 3.         3.07692308 3.15384615 3.23076923 3.30769231\n",
      " 3.38461538 3.46153846 3.53846154 3.61538462 3.69230769 3.76923077\n",
      " 3.84615385 3.92307692 4.         4.07692308 4.15384615 4.23076923\n",
      " 4.30769231 4.38461538 4.46153846 4.53846154 4.61538462 4.69230769\n",
      " 4.76923077 4.84615385 4.92307692 5.         5.07692308 5.15384615\n",
      " 5.23076923 5.30769231 5.38461538 5.46153846 5.53846154 5.61538462\n",
      " 5.69230769 5.76923077 5.84615385 5.92307692 6.         6.07692308\n",
      " 6.15384615 6.23076923 6.30769231 6.38461538 6.46153846 6.53846154\n",
      " 6.61538462 6.69230769 6.76923077 6.84615385 6.92307692 7.\n",
      " 7.07692308 7.15384615 7.23076923 7.30769231 7.38461538 7.46153846\n",
      " 7.53846154 7.61538462 7.69230769 7.76923077 7.84615385 7.92307692\n",
      " 8.        ]\n"
     ]
    },
    {
     "data": {
      "text/plain": [
       "<matplotlib.axes._subplots.AxesSubplot at 0x1639ad73278>"
      ]
     },
     "execution_count": 158,
     "metadata": {},
     "output_type": "execute_result"
    },
    {
     "data": {
      "image/png": "[encoded data removed]",
      "text/plain": [
       "<Figure size 1440x504 with 1 Axes>"
      ]
     },
     "metadata": {},
     "output_type": "display_data"
    }
   ],
   "source": [
    "## Plot by episode\n",
    "\n",
    "# Combined var for season & episode\n",
    "allepisodes['SeasonEp'] = allepisodes['Season'] + allepisodes['Episode']/13\n",
    "allepisodes\n",
    "print(allepisodes.SeasonEp.unique())\n",
    "\n",
    "# allepisodes.groupby(['SeasonEp', 'Queer'])[['dur_sec']].agg('sum')\n",
    "# data.groupby(['Season', 'Queer'])[['DurForm']].agg('sum').unstack().plot(ax=ax)\n",
    "\n",
    "# Plot\n",
    "fig, ax = plt.subplots(figsize=(20,7))\n",
    "allepisodes.groupby(['SeasonEp', 'Queer'])[['dur_sec']].agg('sum').unstack().plot(ax=ax)\n",
    "# plt.xticks(np.arange(len(allepisodes.SeasonEp.unique())), allepisodes.SeasonEp.unique())\n",
    "# plt.show()"
   ]
  },
  {
   "cell_type": "code",
   "execution_count": 162,
   "metadata": {},
   "outputs": [
    {
     "data": {
      "application/vnd.plotly.v1+json": {
       "config": {
        "plotlyServerURL": "https://plot.ly"
       },
       "data": [
        {
         "customdata": [
          [
           1,
           1,
           "I Wasn't Ready"
          ],
          [
           1,
           2,
           "Tit Punch"
          ],
          [
           1,
           3,
           "Lesbian Request Denied"
          ],
          [
           1,
           4,
           "Imaginary Enemies"
          ],
          [
           1,
           5,
           "The Chickening"
          ],
          [
           1,
           6,
           "WAC Pack"
          ],
          [
           1,
           7,
           "Blood Donut"
          ],
          [
           1,
           8,
           "Moscow Mule"
          ],
          [
           1,
           9,
           "F*cksgiving"
          ],
          [
           1,
           10,
           "Bora Bora Bora"
          ],
          [
           1,
           11,
           "Tall Men with Feelings"
          ],
          [
           1,
           12,
           "Fool Me Once"
          ],
          [
           1,
           13,
           "Can't Fix Crazy"
          ],
          [
           2,
           1,
           "Thirsty Bird"
          ],
          [
           2,
           2,
           "Looks Blue, Tastes Red"
          ],
          [
           2,
           3,
           "Hugs Can Be Deceiving"
          ],
          [
           2,
           4,
           "A Whole Other Hole"
          ],
          [
           2,
           5,
           "Low Self Esteem City"
          ],
          [
           2,
           6,
           "You Also Have a Pizza"
          ],
          [
           2,
           7,
           "Comic Sans"
          ],
          [
           2,
           8,
           "Appropriately Sized Pots"
          ],
          [
           2,
           9,
           "40 Oz. of Furlough"
          ],
          [
           2,
           10,
           "Little Mustachioed Sh*t"
          ],
          [
           2,
           11,
           "Take a Break From Your Values"
          ],
          [
           2,
           12,
           "It Was The Change"
          ],
          [
           2,
           13,
           "We Have Manners. We're Polite."
          ],
          [
           3,
           1,
           "Mother's Day"
          ],
          [
           3,
           2,
           "Bed Bugs and Beyond"
          ],
          [
           3,
           3,
           "Empathy is a Boner Killer"
          ],
          [
           3,
           4,
           "Finger in the Dyke"
          ],
          [
           3,
           5,
           "Fake It Till You Fake It Some More"
          ],
          [
           3,
           6,
           "Ching Chong Chang"
          ],
          [
           3,
           7,
           "Tongue-Tied"
          ],
          [
           3,
           8,
           "Fear, and Other Smells"
          ],
          [
           3,
           9,
           "Where My Dreidel At"
          ],
          [
           3,
           10,
           "A Tittin' and a Harrin'"
          ],
          [
           3,
           11,
           "We Can Be Heros"
          ],
          [
           3,
           12,
           "Don't Make Me Come Back There"
          ],
          [
           3,
           13,
           "Trust No Bitch"
          ],
          [
           4,
           1,
           "Work That Body for Me"
          ],
          [
           4,
           2,
           "Power Suit"
          ],
          [
           4,
           3,
           "(Don't) Say Anything"
          ],
          [
           4,
           4,
           "Doctor Psycho"
          ],
          [
           4,
           5,
           "We'll Always Have Baltimore"
          ],
          [
           4,
           6,
           "Piece of Sh*t"
          ],
          [
           4,
           7,
           "It Sounded Nicer in My Head"
          ],
          [
           4,
           8,
           "Friends in Low Places"
          ],
          [
           4,
           9,
           "Turn Table Turn"
          ],
          [
           4,
           10,
           "Bunny, Skull, Bunny, Skull"
          ],
          [
           4,
           11,
           "People Persons"
          ],
          [
           4,
           12,
           "The Animals"
          ],
          [
           4,
           13,
           "Toast Can't Never Be Bread Again"
          ],
          [
           5,
           1,
           "Riot FOMO"
          ],
          [
           5,
           2,
           "F*ck, Marry, Frieda"
          ],
          [
           5,
           3,
           "Pissters!"
          ],
          [
           5,
           4,
           "Litchfield's Got Talent"
          ],
          [
           5,
           5,
           "Sing It, White Effie"
          ],
          [
           5,
           6,
           "Flaming Hot Cheetos, Literally"
          ],
          [
           5,
           7,
           "Full Bush, Half Snickers"
          ],
          [
           5,
           8,
           "Tied to the Tracks"
          ],
          [
           5,
           9,
           "The Tightening"
          ],
          [
           5,
           10,
           "The Reverse Midas Touch"
          ],
          [
           5,
           11,
           "Breaking the Fiberboard Ceiling"
          ],
          [
           5,
           12,
           "Tattoo You"
          ],
          [
           5,
           13,
           "Storm-y Weather"
          ],
          [
           6,
           1,
           "Who Knows Better Than I"
          ],
          [
           6,
           2,
           "Sh*tstorm Coming"
          ],
          [
           6,
           3,
           "Look Out for Number One"
          ],
          [
           6,
           4,
           "I'm the Talking Ass"
          ],
          [
           6,
           5,
           "Mischief Mischief"
          ],
          [
           6,
           6,
           "State of the Uterus"
          ],
          [
           6,
           7,
           "Changing Winds"
          ],
          [
           6,
           8,
           "Gordons"
          ],
          [
           6,
           9,
           "Break the String"
          ],
          [
           6,
           10,
           "Chocolate Chip Nookie"
          ],
          [
           6,
           11,
           "Well This Took a Dark Turn"
          ],
          [
           6,
           12,
           "Double Trouble"
          ],
          [
           6,
           13,
           "Be Free"
          ],
          [
           7,
           1,
           "Beginning of the End"
          ],
          [
           7,
           2,
           "Just Desserts"
          ],
          [
           7,
           3,
           "And Brown Is the New Orange"
          ],
          [
           7,
           4,
           "How to Do Life"
          ],
          [
           7,
           5,
           "Minority Deport"
          ],
          [
           7,
           6,
           "Trapped in an Elevator"
          ],
          [
           7,
           7,
           "Me as Well"
          ],
          [
           7,
           8,
           "Baker's Dozen"
          ],
          [
           7,
           9,
           "The Hidey Hole"
          ],
          [
           7,
           10,
           "The Thirteenth"
          ],
          [
           7,
           11,
           "God Bless America"
          ],
          [
           7,
           12,
           "The Big House"
          ],
          [
           7,
           13,
           "Here's Where We Get Off"
          ]
         ],
         "hovertemplate": "Queer=0<br>SeasonEp=%{x}<br>dur_sec=%{y}<br>Season=%{customdata[0]}<br>Episode=%{customdata[1]}<br>Title=%{customdata[2]}<extra></extra>",
         "legendgroup": "0",
         "line": {
          "color": "#636efa",
          "dash": "solid"
         },
         "mode": "lines",
         "name": "0",
         "orientation": "v",
         "showlegend": true,
         "type": "scatter",
         "x": [
          1.0769230769230769,
          1.1538461538461537,
          1.2307692307692308,
          1.3076923076923077,
          1.3846153846153846,
          1.4615384615384617,
          1.5384615384615383,
          1.6153846153846154,
          1.6923076923076923,
          1.7692307692307692,
          1.8461538461538463,
          1.9230769230769231,
          2,
          2.076923076923077,
          2.1538461538461537,
          2.230769230769231,
          2.3076923076923075,
          2.3846153846153846,
          2.4615384615384617,
          2.5384615384615383,
          2.6153846153846154,
          2.6923076923076925,
          2.769230769230769,
          2.8461538461538463,
          2.9230769230769234,
          3,
          3.076923076923077,
          3.1538461538461537,
          3.230769230769231,
          3.3076923076923075,
          3.3846153846153846,
          3.4615384615384617,
          3.5384615384615383,
          3.6153846153846154,
          3.6923076923076925,
          3.769230769230769,
          3.8461538461538463,
          3.9230769230769234,
          4,
          4.076923076923077,
          4.153846153846154,
          4.230769230769231,
          4.3076923076923075,
          4.384615384615385,
          4.461538461538462,
          4.538461538461538,
          4.615384615384615,
          4.6923076923076925,
          4.769230769230769,
          4.846153846153846,
          4.923076923076923,
          5,
          5.076923076923077,
          5.153846153846154,
          5.230769230769231,
          5.3076923076923075,
          5.384615384615385,
          5.461538461538462,
          5.538461538461538,
          5.615384615384615,
          5.6923076923076925,
          5.769230769230769,
          5.846153846153846,
          5.923076923076923,
          6,
          6.076923076923077,
          6.153846153846154,
          6.230769230769231,
          6.3076923076923075,
          6.384615384615385,
          6.461538461538462,
          6.538461538461538,
          6.615384615384615,
          6.6923076923076925,
          6.769230769230769,
          6.846153846153846,
          6.923076923076923,
          7,
          7.076923076923077,
          7.153846153846154,
          7.230769230769231,
          7.3076923076923075,
          7.384615384615385,
          7.461538461538462,
          7.538461538461538,
          7.615384615384615,
          7.6923076923076925,
          7.769230769230769,
          7.846153846153846,
          7.923076923076923,
          8
         ],
         "xaxis": "x",
         "y": [
          55,
          31,
          4,
          3,
          36,
          32,
          0,
          0,
          0,
          0,
          32,
          23,
          0,
          0,
          0,
          0,
          1,
          4,
          29,
          29,
          30,
          92,
          1,
          6,
          11,
          30,
          1,
          7,
          0,
          0,
          0,
          0,
          2,
          0,
          22,
          150,
          20,
          0,
          52,
          0,
          17,
          0,
          0,
          36,
          0,
          1,
          13,
          30,
          0,
          5,
          0,
          8,
          0,
          10,
          0,
          14,
          17,
          1,
          0,
          2,
          17,
          34,
          0,
          3,
          0,
          0,
          57,
          0,
          5,
          2,
          0,
          0,
          0,
          18,
          3,
          8,
          0,
          0,
          41,
          19,
          6,
          0,
          13,
          69,
          32,
          1,
          16,
          0,
          0,
          37,
          1
         ],
         "yaxis": "y"
        },
        {
         "customdata": [
          [
           1,
           1,
           "I Wasn't Ready"
          ],
          [
           1,
           2,
           "Tit Punch"
          ],
          [
           1,
           3,
           "Lesbian Request Denied"
          ],
          [
           1,
           4,
           "Imaginary Enemies"
          ],
          [
           1,
           5,
           "The Chickening"
          ],
          [
           1,
           6,
           "WAC Pack"
          ],
          [
           1,
           7,
           "Blood Donut"
          ],
          [
           1,
           8,
           "Moscow Mule"
          ],
          [
           1,
           9,
           "F*cksgiving"
          ],
          [
           1,
           10,
           "Bora Bora Bora"
          ],
          [
           1,
           11,
           "Tall Men with Feelings"
          ],
          [
           1,
           12,
           "Fool Me Once"
          ],
          [
           1,
           13,
           "Can't Fix Crazy"
          ],
          [
           2,
           1,
           "Thirsty Bird"
          ],
          [
           2,
           2,
           "Looks Blue, Tastes Red"
          ],
          [
           2,
           3,
           "Hugs Can Be Deceiving"
          ],
          [
           2,
           4,
           "A Whole Other Hole"
          ],
          [
           2,
           5,
           "Low Self Esteem City"
          ],
          [
           2,
           6,
           "You Also Have a Pizza"
          ],
          [
           2,
           7,
           "Comic Sans"
          ],
          [
           2,
           8,
           "Appropriately Sized Pots"
          ],
          [
           2,
           9,
           "40 Oz. of Furlough"
          ],
          [
           2,
           10,
           "Little Mustachioed Sh*t"
          ],
          [
           2,
           11,
           "Take a Break From Your Values"
          ],
          [
           2,
           12,
           "It Was The Change"
          ],
          [
           2,
           13,
           "We Have Manners. We're Polite."
          ],
          [
           3,
           1,
           "Mother's Day"
          ],
          [
           3,
           2,
           "Bed Bugs and Beyond"
          ],
          [
           3,
           3,
           "Empathy is a Boner Killer"
          ],
          [
           3,
           4,
           "Finger in the Dyke"
          ],
          [
           3,
           5,
           "Fake It Till You Fake It Some More"
          ],
          [
           3,
           6,
           "Ching Chong Chang"
          ],
          [
           3,
           7,
           "Tongue-Tied"
          ],
          [
           3,
           8,
           "Fear, and Other Smells"
          ],
          [
           3,
           9,
           "Where My Dreidel At"
          ],
          [
           3,
           10,
           "A Tittin' and a Harrin'"
          ],
          [
           3,
           11,
           "We Can Be Heros"
          ],
          [
           3,
           12,
           "Don't Make Me Come Back There"
          ],
          [
           3,
           13,
           "Trust No Bitch"
          ],
          [
           4,
           1,
           "Work That Body for Me"
          ],
          [
           4,
           2,
           "Power Suit"
          ],
          [
           4,
           3,
           "(Don't) Say Anything"
          ],
          [
           4,
           4,
           "Doctor Psycho"
          ],
          [
           4,
           5,
           "We'll Always Have Baltimore"
          ],
          [
           4,
           6,
           "Piece of Sh*t"
          ],
          [
           4,
           7,
           "It Sounded Nicer in My Head"
          ],
          [
           4,
           8,
           "Friends in Low Places"
          ],
          [
           4,
           9,
           "Turn Table Turn"
          ],
          [
           4,
           10,
           "Bunny, Skull, Bunny, Skull"
          ],
          [
           4,
           11,
           "People Persons"
          ],
          [
           4,
           12,
           "The Animals"
          ],
          [
           4,
           13,
           "Toast Can't Never Be Bread Again"
          ],
          [
           5,
           1,
           "Riot FOMO"
          ],
          [
           5,
           2,
           "F*ck, Marry, Frieda"
          ],
          [
           5,
           3,
           "Pissters!"
          ],
          [
           5,
           4,
           "Litchfield's Got Talent"
          ],
          [
           5,
           5,
           "Sing It, White Effie"
          ],
          [
           5,
           6,
           "Flaming Hot Cheetos, Literally"
          ],
          [
           5,
           7,
           "Full Bush, Half Snickers"
          ],
          [
           5,
           8,
           "Tied to the Tracks"
          ],
          [
           5,
           9,
           "The Tightening"
          ],
          [
           5,
           10,
           "The Reverse Midas Touch"
          ],
          [
           5,
           11,
           "Breaking the Fiberboard Ceiling"
          ],
          [
           5,
           12,
           "Tattoo You"
          ],
          [
           5,
           13,
           "Storm-y Weather"
          ],
          [
           6,
           1,
           "Who Knows Better Than I"
          ],
          [
           6,
           2,
           "Sh*tstorm Coming"
          ],
          [
           6,
           3,
           "Look Out for Number One"
          ],
          [
           6,
           4,
           "I'm the Talking Ass"
          ],
          [
           6,
           5,
           "Mischief Mischief"
          ],
          [
           6,
           6,
           "State of the Uterus"
          ],
          [
           6,
           7,
           "Changing Winds"
          ],
          [
           6,
           8,
           "Gordons"
          ],
          [
           6,
           9,
           "Break the String"
          ],
          [
           6,
           10,
           "Chocolate Chip Nookie"
          ],
          [
           6,
           11,
           "Well This Took a Dark Turn"
          ],
          [
           6,
           12,
           "Double Trouble"
          ],
          [
           6,
           13,
           "Be Free"
          ],
          [
           7,
           1,
           "Beginning of the End"
          ],
          [
           7,
           2,
           "Just Desserts"
          ],
          [
           7,
           3,
           "And Brown Is the New Orange"
          ],
          [
           7,
           4,
           "How to Do Life"
          ],
          [
           7,
           5,
           "Minority Deport"
          ],
          [
           7,
           6,
           "Trapped in an Elevator"
          ],
          [
           7,
           7,
           "Me as Well"
          ],
          [
           7,
           8,
           "Baker's Dozen"
          ],
          [
           7,
           9,
           "The Hidey Hole"
          ],
          [
           7,
           10,
           "The Thirteenth"
          ],
          [
           7,
           11,
           "God Bless America"
          ],
          [
           7,
           12,
           "The Big House"
          ],
          [
           7,
           13,
           "Here's Where We Get Off"
          ]
         ],
         "hovertemplate": "Queer=1<br>SeasonEp=%{x}<br>dur_sec=%{y}<br>Season=%{customdata[0]}<br>Episode=%{customdata[1]}<br>Title=%{customdata[2]}<extra></extra>",
         "legendgroup": "1",
         "line": {
          "color": "#EF553B",
          "dash": "solid"
         },
         "mode": "lines",
         "name": "1",
         "orientation": "v",
         "showlegend": true,
         "type": "scatter",
         "x": [
          1.0769230769230769,
          1.1538461538461537,
          1.2307692307692308,
          1.3076923076923077,
          1.3846153846153846,
          1.4615384615384617,
          1.5384615384615383,
          1.6153846153846154,
          1.6923076923076923,
          1.7692307692307692,
          1.8461538461538463,
          1.9230769230769231,
          2,
          2.076923076923077,
          2.1538461538461537,
          2.230769230769231,
          2.3076923076923075,
          2.3846153846153846,
          2.4615384615384617,
          2.5384615384615383,
          2.6153846153846154,
          2.6923076923076925,
          2.769230769230769,
          2.8461538461538463,
          2.9230769230769234,
          3,
          3.076923076923077,
          3.1538461538461537,
          3.230769230769231,
          3.3076923076923075,
          3.3846153846153846,
          3.4615384615384617,
          3.5384615384615383,
          3.6153846153846154,
          3.6923076923076925,
          3.769230769230769,
          3.8461538461538463,
          3.9230769230769234,
          4,
          4.076923076923077,
          4.153846153846154,
          4.230769230769231,
          4.3076923076923075,
          4.384615384615385,
          4.461538461538462,
          4.538461538461538,
          4.615384615384615,
          4.6923076923076925,
          4.769230769230769,
          4.846153846153846,
          4.923076923076923,
          5,
          5.076923076923077,
          5.153846153846154,
          5.230769230769231,
          5.3076923076923075,
          5.384615384615385,
          5.461538461538462,
          5.538461538461538,
          5.615384615384615,
          5.6923076923076925,
          5.769230769230769,
          5.846153846153846,
          5.923076923076923,
          6,
          6.076923076923077,
          6.153846153846154,
          6.230769230769231,
          6.3076923076923075,
          6.384615384615385,
          6.461538461538462,
          6.538461538461538,
          6.615384615384615,
          6.6923076923076925,
          6.769230769230769,
          6.846153846153846,
          6.923076923076923,
          7,
          7.076923076923077,
          7.153846153846154,
          7.230769230769231,
          7.3076923076923075,
          7.384615384615385,
          7.461538461538462,
          7.538461538461538,
          7.615384615384615,
          7.6923076923076925,
          7.769230769230769,
          7.846153846153846,
          7.923076923076923,
          8
         ],
         "xaxis": "x",
         "y": [
          70,
          8,
          12,
          9,
          20,
          9,
          0,
          0,
          15,
          5,
          14,
          22,
          24,
          2,
          0,
          42,
          71,
          0,
          86,
          0,
          0,
          0,
          60,
          0,
          16,
          0,
          5,
          41,
          43,
          40,
          0,
          0,
          1,
          0,
          6,
          9,
          3,
          0,
          6,
          1,
          0,
          0,
          15,
          0,
          39,
          0,
          4,
          0,
          62,
          19,
          44,
          8,
          15,
          0,
          0,
          0,
          1,
          20,
          27,
          0,
          28,
          8,
          6,
          7,
          2,
          12,
          0,
          0,
          7,
          0,
          10,
          7,
          28,
          24,
          4,
          0,
          2,
          10,
          7,
          0,
          0,
          0,
          0,
          0,
          82,
          14,
          34,
          30,
          6,
          18,
          2
         ],
         "yaxis": "y"
        }
       ],
       "layout": {
        "legend": {
         "title": {
          "text": "Queer"
         },
         "tracegroupgap": 0
        },
        "margin": {
         "t": 60
        },
        "template": {
         "data": {
          "bar": [
           {
            "error_x": {
             "color": "#2a3f5f"
            },
            "error_y": {
             "color": "#2a3f5f"
            },
            "marker": {
             "line": {
              "color": "#E5ECF6",
              "width": 0.5
             }
            },
            "type": "bar"
           }
          ],
          "barpolar": [
           {
            "marker": {
             "line": {
              "color": "#E5ECF6",
              "width": 0.5
             }
            },
            "type": "barpolar"
           }
          ],
          "carpet": [
           {
            "aaxis": {
             "endlinecolor": "#2a3f5f",
             "gridcolor": "white",
             "linecolor": "white",
             "minorgridcolor": "white",
             "startlinecolor": "#2a3f5f"
            },
            "baxis": {
             "endlinecolor": "#2a3f5f",
             "gridcolor": "white",
             "linecolor": "white",
             "minorgridcolor": "white",
             "startlinecolor": "#2a3f5f"
            },
            "type": "carpet"
           }
          ],
          "choropleth": [
           {
            "colorbar": {
             "outlinewidth": 0,
             "ticks": ""
            },
            "type": "choropleth"
           }
          ],
          "contour": [
           {
            "colorbar": {
             "outlinewidth": 0,
             "ticks": ""
            },
            "colorscale": [
             [
              0,
              "#0d0887"
             ],
             [
              0.1111111111111111,
              "#46039f"
             ],
             [
              0.2222222222222222,
              "#7201a8"
             ],
             [
              0.3333333333333333,
              "#9c179e"
             ],
             [
              0.4444444444444444,
              "#bd3786"
             ],
             [
              0.5555555555555556,
              "#d8576b"
             ],
             [
              0.6666666666666666,
              "#ed7953"
             ],
             [
              0.7777777777777778,
              "#fb9f3a"
             ],
             [
              0.8888888888888888,
              "#fdca26"
             ],
             [
              1,
              "#f0f921"
             ]
            ],
            "type": "contour"
           }
          ],
          "contourcarpet": [
           {
            "colorbar": {
             "outlinewidth": 0,
             "ticks": ""
            },
            "type": "contourcarpet"
           }
          ],
          "heatmap": [
           {
            "colorbar": {
             "outlinewidth": 0,
             "ticks": ""
            },
            "colorscale": [
             [
              0,
              "#0d0887"
             ],
             [
              0.1111111111111111,
              "#46039f"
             ],
             [
              0.2222222222222222,
              "#7201a8"
             ],
             [
              0.3333333333333333,
              "#9c179e"
             ],
             [
              0.4444444444444444,
              "#bd3786"
             ],
             [
              0.5555555555555556,
              "#d8576b"
             ],
             [
              0.6666666666666666,
              "#ed7953"
             ],
             [
              0.7777777777777778,
              "#fb9f3a"
             ],
             [
              0.8888888888888888,
              "#fdca26"
             ],
             [
              1,
              "#f0f921"
             ]
            ],
            "type": "heatmap"
           }
          ],
          "heatmapgl": [
           {
            "colorbar": {
             "outlinewidth": 0,
             "ticks": ""
            },
            "colorscale": [
             [
              0,
              "#0d0887"
             ],
             [
              0.1111111111111111,
              "#46039f"
             ],
             [
              0.2222222222222222,
              "#7201a8"
             ],
             [
              0.3333333333333333,
              "#9c179e"
             ],
             [
              0.4444444444444444,
              "#bd3786"
             ],
             [
              0.5555555555555556,
              "#d8576b"
             ],
             [
              0.6666666666666666,
              "#ed7953"
             ],
             [
              0.7777777777777778,
              "#fb9f3a"
             ],
             [
              0.8888888888888888,
              "#fdca26"
             ],
             [
              1,
              "#f0f921"
             ]
            ],
            "type": "heatmapgl"
           }
          ],
          "histogram": [
           {
            "marker": {
             "colorbar": {
              "outlinewidth": 0,
              "ticks": ""
             }
            },
            "type": "histogram"
           }
          ],
          "histogram2d": [
           {
            "colorbar": {
             "outlinewidth": 0,
             "ticks": ""
            },
            "colorscale": [
             [
              0,
              "#0d0887"
             ],
             [
              0.1111111111111111,
              "#46039f"
             ],
             [
              0.2222222222222222,
              "#7201a8"
             ],
             [
              0.3333333333333333,
              "#9c179e"
             ],
             [
              0.4444444444444444,
              "#bd3786"
             ],
             [
              0.5555555555555556,
              "#d8576b"
             ],
             [
              0.6666666666666666,
              "#ed7953"
             ],
             [
              0.7777777777777778,
              "#fb9f3a"
             ],
             [
              0.8888888888888888,
              "#fdca26"
             ],
             [
              1,
              "#f0f921"
             ]
            ],
            "type": "histogram2d"
           }
          ],
          "histogram2dcontour": [
           {
            "colorbar": {
             "outlinewidth": 0,
             "ticks": ""
            },
            "colorscale": [
             [
              0,
              "#0d0887"
             ],
             [
              0.1111111111111111,
              "#46039f"
             ],
             [
              0.2222222222222222,
              "#7201a8"
             ],
             [
              0.3333333333333333,
              "#9c179e"
             ],
             [
              0.4444444444444444,
              "#bd3786"
             ],
             [
              0.5555555555555556,
              "#d8576b"
             ],
             [
              0.6666666666666666,
              "#ed7953"
             ],
             [
              0.7777777777777778,
              "#fb9f3a"
             ],
             [
              0.8888888888888888,
              "#fdca26"
             ],
             [
              1,
              "#f0f921"
             ]
            ],
            "type": "histogram2dcontour"
           }
          ],
          "mesh3d": [
           {
            "colorbar": {
             "outlinewidth": 0,
             "ticks": ""
            },
            "type": "mesh3d"
           }
          ],
          "parcoords": [
           {
            "line": {
             "colorbar": {
              "outlinewidth": 0,
              "ticks": ""
             }
            },
            "type": "parcoords"
           }
          ],
          "pie": [
           {
            "automargin": true,
            "type": "pie"
           }
          ],
          "scatter": [
           {
            "marker": {
             "colorbar": {
              "outlinewidth": 0,
              "ticks": ""
             }
            },
            "type": "scatter"
           }
          ],
          "scatter3d": [
           {
            "line": {
             "colorbar": {
              "outlinewidth": 0,
              "ticks": ""
             }
            },
            "marker": {
             "colorbar": {
              "outlinewidth": 0,
              "ticks": ""
             }
            },
            "type": "scatter3d"
           }
          ],
          "scattercarpet": [
           {
            "marker": {
             "colorbar": {
              "outlinewidth": 0,
              "ticks": ""
             }
            },
            "type": "scattercarpet"
           }
          ],
          "scattergeo": [
           {
            "marker": {
             "colorbar": {
              "outlinewidth": 0,
              "ticks": ""
             }
            },
            "type": "scattergeo"
           }
          ],
          "scattergl": [
           {
            "marker": {
             "colorbar": {
              "outlinewidth": 0,
              "ticks": ""
             }
            },
            "type": "scattergl"
           }
          ],
          "scattermapbox": [
           {
            "marker": {
             "colorbar": {
              "outlinewidth": 0,
              "ticks": ""
             }
            },
            "type": "scattermapbox"
           }
          ],
          "scatterpolar": [
           {
            "marker": {
             "colorbar": {
              "outlinewidth": 0,
              "ticks": ""
             }
            },
            "type": "scatterpolar"
           }
          ],
          "scatterpolargl": [
           {
            "marker": {
             "colorbar": {
              "outlinewidth": 0,
              "ticks": ""
             }
            },
            "type": "scatterpolargl"
           }
          ],
          "scatterternary": [
           {
            "marker": {
             "colorbar": {
              "outlinewidth": 0,
              "ticks": ""
             }
            },
            "type": "scatterternary"
           }
          ],
          "surface": [
           {
            "colorbar": {
             "outlinewidth": 0,
             "ticks": ""
            },
            "colorscale": [
             [
              0,
              "#0d0887"
             ],
             [
              0.1111111111111111,
              "#46039f"
             ],
             [
              0.2222222222222222,
              "#7201a8"
             ],
             [
              0.3333333333333333,
              "#9c179e"
             ],
             [
              0.4444444444444444,
              "#bd3786"
             ],
             [
              0.5555555555555556,
              "#d8576b"
             ],
             [
              0.6666666666666666,
              "#ed7953"
             ],
             [
              0.7777777777777778,
              "#fb9f3a"
             ],
             [
              0.8888888888888888,
              "#fdca26"
             ],
             [
              1,
              "#f0f921"
             ]
            ],
            "type": "surface"
           }
          ],
          "table": [
           {
            "cells": {
             "fill": {
              "color": "#EBF0F8"
             },
             "line": {
              "color": "white"
             }
            },
            "header": {
             "fill": {
              "color": "#C8D4E3"
             },
             "line": {
              "color": "white"
             }
            },
            "type": "table"
           }
          ]
         },
         "layout": {
          "annotationdefaults": {
           "arrowcolor": "#2a3f5f",
           "arrowhead": 0,
           "arrowwidth": 1
          },
          "coloraxis": {
           "colorbar": {
            "outlinewidth": 0,
            "ticks": ""
           }
          },
          "colorscale": {
           "diverging": [
            [
             0,
             "#8e0152"
            ],
            [
             0.1,
             "#c51b7d"
            ],
            [
             0.2,
             "#de77ae"
            ],
            [
             0.3,
             "#f1b6da"
            ],
            [
             0.4,
             "#fde0ef"
            ],
            [
             0.5,
             "#f7f7f7"
            ],
            [
             0.6,
             "#e6f5d0"
            ],
            [
             0.7,
             "#b8e186"
            ],
            [
             0.8,
             "#7fbc41"
            ],
            [
             0.9,
             "#4d9221"
            ],
            [
             1,
             "#276419"
            ]
           ],
           "sequential": [
            [
             0,
             "#0d0887"
            ],
            [
             0.1111111111111111,
             "#46039f"
            ],
            [
             0.2222222222222222,
             "#7201a8"
            ],
            [
             0.3333333333333333,
             "#9c179e"
            ],
            [
             0.4444444444444444,
             "#bd3786"
            ],
            [
             0.5555555555555556,
             "#d8576b"
            ],
            [
             0.6666666666666666,
             "#ed7953"
            ],
            [
             0.7777777777777778,
             "#fb9f3a"
            ],
            [
             0.8888888888888888,
             "#fdca26"
            ],
            [
             1,
             "#f0f921"
            ]
           ],
           "sequentialminus": [
            [
             0,
             "#0d0887"
            ],
            [
             0.1111111111111111,
             "#46039f"
            ],
            [
             0.2222222222222222,
             "#7201a8"
            ],
            [
             0.3333333333333333,
             "#9c179e"
            ],
            [
             0.4444444444444444,
             "#bd3786"
            ],
            [
             0.5555555555555556,
             "#d8576b"
            ],
            [
             0.6666666666666666,
             "#ed7953"
            ],
            [
             0.7777777777777778,
             "#fb9f3a"
            ],
            [
             0.8888888888888888,
             "#fdca26"
            ],
            [
             1,
             "#f0f921"
            ]
           ]
          },
          "colorway": [
           "#636efa",
           "#EF553B",
           "#00cc96",
           "#ab63fa",
           "#FFA15A",
           "#19d3f3",
           "#FF6692",
           "#B6E880",
           "#FF97FF",
           "#FECB52"
          ],
          "font": {
           "color": "#2a3f5f"
          },
          "geo": {
           "bgcolor": "white",
           "lakecolor": "white",
           "landcolor": "#E5ECF6",
           "showlakes": true,
           "showland": true,
           "subunitcolor": "white"
          },
          "hoverlabel": {
           "align": "left"
          },
          "hovermode": "closest",
          "mapbox": {
           "style": "light"
          },
          "paper_bgcolor": "white",
          "plot_bgcolor": "#E5ECF6",
          "polar": {
           "angularaxis": {
            "gridcolor": "white",
            "linecolor": "white",
            "ticks": ""
           },
           "bgcolor": "#E5ECF6",
           "radialaxis": {
            "gridcolor": "white",
            "linecolor": "white",
            "ticks": ""
           }
          },
          "scene": {
           "xaxis": {
            "backgroundcolor": "#E5ECF6",
            "gridcolor": "white",
            "gridwidth": 2,
            "linecolor": "white",
            "showbackground": true,
            "ticks": "",
            "zerolinecolor": "white"
           },
           "yaxis": {
            "backgroundcolor": "#E5ECF6",
            "gridcolor": "white",
            "gridwidth": 2,
            "linecolor": "white",
            "showbackground": true,
            "ticks": "",
            "zerolinecolor": "white"
           },
           "zaxis": {
            "backgroundcolor": "#E5ECF6",
            "gridcolor": "white",
            "gridwidth": 2,
            "linecolor": "white",
            "showbackground": true,
            "ticks": "",
            "zerolinecolor": "white"
           }
          },
          "shapedefaults": {
           "line": {
            "color": "#2a3f5f"
           }
          },
          "ternary": {
           "aaxis": {
            "gridcolor": "white",
            "linecolor": "white",
            "ticks": ""
           },
           "baxis": {
            "gridcolor": "white",
            "linecolor": "white",
            "ticks": ""
           },
           "bgcolor": "#E5ECF6",
           "caxis": {
            "gridcolor": "white",
            "linecolor": "white",
            "ticks": ""
           }
          },
          "title": {
           "x": 0.05
          },
          "xaxis": {
           "automargin": true,
           "gridcolor": "white",
           "linecolor": "white",
           "ticks": "",
           "title": {
            "standoff": 15
           },
           "zerolinecolor": "white",
           "zerolinewidth": 2
          },
          "yaxis": {
           "automargin": true,
           "gridcolor": "white",
           "linecolor": "white",
           "ticks": "",
           "title": {
            "standoff": 15
           },
           "zerolinecolor": "white",
           "zerolinewidth": 2
          }
         }
        },
        "xaxis": {
         "anchor": "y",
         "domain": [
          0,
          1
         ],
         "title": {
          "text": "SeasonEp"
         }
        },
        "yaxis": {
         "anchor": "x",
         "domain": [
          0,
          1
         ],
         "title": {
          "text": "dur_sec"
         }
        }
       }
      },
      "text/html": [
       "<div>\n",
       "        \n",
       "        \n",
       "            <div id=\"1aeb6a5a-a646-404d-acc8-3edf2240ad7c\" class=\"plotly-graph-div\" style=\"height:525px; width:100%;\"></div>\n",
       "            <script type=\"text/javascript\">\n",
       "                require([\"plotly\"], function(Plotly) {\n",
       "                    window.PLOTLYENV=window.PLOTLYENV || {};\n",
       "                    \n",
       "                if (document.getElementById(\"1aeb6a5a-a646-404d-acc8-3edf2240ad7c\")) {\n",
       "                    Plotly.newPlot(\n",
       "                        '1aeb6a5a-a646-404d-acc8-3edf2240ad7c',\n",
       "                        [{\"customdata\": [[1, 1, \"I Wasn't Ready\"], [1, 2, \"Tit Punch\"], [1, 3, \"Lesbian Request Denied\"], [1, 4, \"Imaginary Enemies\"], [1, 5, \"The Chickening\"], [1, 6, \"WAC Pack\"], [1, 7, \"Blood Donut\"], [1, 8, \"Moscow Mule\"], [1, 9, \"F*cksgiving\"], [1, 10, \"Bora Bora Bora\"], [1, 11, \"Tall Men with Feelings\"], [1, 12, \"Fool Me Once\"], [1, 13, \"Can't Fix Crazy\"], [2, 1, \"Thirsty Bird\"], [2, 2, \"Looks Blue, Tastes Red\"], [2, 3, \"Hugs Can Be Deceiving\"], [2, 4, \"A Whole Other Hole\"], [2, 5, \"Low Self Esteem City\"], [2, 6, \"You Also Have a Pizza\"], [2, 7, \"Comic Sans\"], [2, 8, \"Appropriately Sized Pots\"], [2, 9, \"40 Oz. of Furlough\"], [2, 10, \"Little Mustachioed Sh*t\"], [2, 11, \"Take a Break From Your Values\"], [2, 12, \"It Was The Change\"], [2, 13, \"We Have Manners. We're Polite.\"], [3, 1, \"Mother's Day\"], [3, 2, \"Bed Bugs and Beyond\"], [3, 3, \"Empathy is a Boner Killer\"], [3, 4, \"Finger in the Dyke\"], [3, 5, \"Fake It Till You Fake It Some More\"], [3, 6, \"Ching Chong Chang\"], [3, 7, \"Tongue-Tied\"], [3, 8, \"Fear, and Other Smells\"], [3, 9, \"Where My Dreidel At\"], [3, 10, \"A Tittin' and a Harrin'\"], [3, 11, \"We Can Be Heros\"], [3, 12, \"Don't Make Me Come Back There\"], [3, 13, \"Trust No Bitch\"], [4, 1, \"Work That Body for Me\"], [4, 2, \"Power Suit\"], [4, 3, \"(Don't) Say Anything\"], [4, 4, \"Doctor Psycho\"], [4, 5, \"We'll Always Have Baltimore\"], [4, 6, \"Piece of Sh*t\"], [4, 7, \"It Sounded Nicer in My Head\"], [4, 8, \"Friends in Low Places\"], [4, 9, \"Turn Table Turn\"], [4, 10, \"Bunny, Skull, Bunny, Skull\"], [4, 11, \"People Persons\"], [4, 12, \"The Animals\"], [4, 13, \"Toast Can't Never Be Bread Again\"], [5, 1, \"Riot FOMO\"], [5, 2, \"F*ck, Marry, Frieda\"], [5, 3, \"Pissters!\"], [5, 4, \"Litchfield's Got Talent\"], [5, 5, \"Sing It, White Effie\"], [5, 6, \"Flaming Hot Cheetos, Literally\"], [5, 7, \"Full Bush, Half Snickers\"], [5, 8, \"Tied to the Tracks\"], [5, 9, \"The Tightening\"], [5, 10, \"The Reverse Midas Touch\"], [5, 11, \"Breaking the Fiberboard Ceiling\"], [5, 12, \"Tattoo You\"], [5, 13, \"Storm-y Weather\"], [6, 1, \"Who Knows Better Than I\"], [6, 2, \"Sh*tstorm Coming\"], [6, 3, \"Look Out for Number One\"], [6, 4, \"I'm the Talking Ass\"], [6, 5, \"Mischief Mischief\"], [6, 6, \"State of the Uterus\"], [6, 7, \"Changing Winds\"], [6, 8, \"Gordons\"], [6, 9, \"Break the String\"], [6, 10, \"Chocolate Chip Nookie\"], [6, 11, \"Well This Took a Dark Turn\"], [6, 12, \"Double Trouble\"], [6, 13, \"Be Free\"], [7, 1, \"Beginning of the End\"], [7, 2, \"Just Desserts\"], [7, 3, \"And Brown Is the New Orange\"], [7, 4, \"How to Do Life\"], [7, 5, \"Minority Deport\"], [7, 6, \"Trapped in an Elevator\"], [7, 7, \"Me as Well\"], [7, 8, \"Baker's Dozen\"], [7, 9, \"The Hidey Hole\"], [7, 10, \"The Thirteenth\"], [7, 11, \"God Bless America\"], [7, 12, \"The Big House\"], [7, 13, \"Here's Where We Get Off\"]], \"hovertemplate\": \"Queer=0<br>SeasonEp=%{x}<br>dur_sec=%{y}<br>Season=%{customdata[0]}<br>Episode=%{customdata[1]}<br>Title=%{customdata[2]}<extra></extra>\", \"legendgroup\": \"0\", \"line\": {\"color\": \"#636efa\", \"dash\": \"solid\"}, \"mode\": \"lines\", \"name\": \"0\", \"orientation\": \"v\", \"showlegend\": true, \"type\": \"scatter\", \"x\": [1.0769230769230769, 1.1538461538461537, 1.2307692307692308, 1.3076923076923077, 1.3846153846153846, 1.4615384615384617, 1.5384615384615383, 1.6153846153846154, 1.6923076923076923, 1.7692307692307692, 1.8461538461538463, 1.9230769230769231, 2.0, 2.076923076923077, 2.1538461538461537, 2.230769230769231, 2.3076923076923075, 2.3846153846153846, 2.4615384615384617, 2.5384615384615383, 2.6153846153846154, 2.6923076923076925, 2.769230769230769, 2.8461538461538463, 2.9230769230769234, 3.0, 3.076923076923077, 3.1538461538461537, 3.230769230769231, 3.3076923076923075, 3.3846153846153846, 3.4615384615384617, 3.5384615384615383, 3.6153846153846154, 3.6923076923076925, 3.769230769230769, 3.8461538461538463, 3.9230769230769234, 4.0, 4.076923076923077, 4.153846153846154, 4.230769230769231, 4.3076923076923075, 4.384615384615385, 4.461538461538462, 4.538461538461538, 4.615384615384615, 4.6923076923076925, 4.769230769230769, 4.846153846153846, 4.923076923076923, 5.0, 5.076923076923077, 5.153846153846154, 5.230769230769231, 5.3076923076923075, 5.384615384615385, 5.461538461538462, 5.538461538461538, 5.615384615384615, 5.6923076923076925, 5.769230769230769, 5.846153846153846, 5.923076923076923, 6.0, 6.076923076923077, 6.153846153846154, 6.230769230769231, 6.3076923076923075, 6.384615384615385, 6.461538461538462, 6.538461538461538, 6.615384615384615, 6.6923076923076925, 6.769230769230769, 6.846153846153846, 6.923076923076923, 7.0, 7.076923076923077, 7.153846153846154, 7.230769230769231, 7.3076923076923075, 7.384615384615385, 7.461538461538462, 7.538461538461538, 7.615384615384615, 7.6923076923076925, 7.769230769230769, 7.846153846153846, 7.923076923076923, 8.0], \"xaxis\": \"x\", \"y\": [55.0, 31.0, 4.0, 3.0, 36.0, 32.0, 0.0, 0.0, 0.0, 0.0, 32.0, 23.0, 0.0, 0.0, 0.0, 0.0, 1.0, 4.0, 29.0, 29.0, 30.0, 92.0, 1.0, 6.0, 11.0, 30.0, 1.0, 7.0, 0.0, 0.0, 0.0, 0.0, 2.0, 0.0, 22.0, 150.0, 20.0, 0.0, 52.0, 0.0, 17.0, 0.0, 0.0, 36.0, 0.0, 1.0, 13.0, 30.0, 0.0, 5.0, 0.0, 8.0, 0.0, 10.0, 0.0, 14.0, 17.0, 1.0, 0.0, 2.0, 17.0, 34.0, 0.0, 3.0, 0.0, 0.0, 57.0, 0.0, 5.0, 2.0, 0.0, 0.0, 0.0, 18.0, 3.0, 8.0, 0.0, 0.0, 41.0, 19.0, 6.0, 0.0, 13.0, 69.0, 32.0, 1.0, 16.0, 0.0, 0.0, 37.0, 1.0], \"yaxis\": \"y\"}, {\"customdata\": [[1, 1, \"I Wasn't Ready\"], [1, 2, \"Tit Punch\"], [1, 3, \"Lesbian Request Denied\"], [1, 4, \"Imaginary Enemies\"], [1, 5, \"The Chickening\"], [1, 6, \"WAC Pack\"], [1, 7, \"Blood Donut\"], [1, 8, \"Moscow Mule\"], [1, 9, \"F*cksgiving\"], [1, 10, \"Bora Bora Bora\"], [1, 11, \"Tall Men with Feelings\"], [1, 12, \"Fool Me Once\"], [1, 13, \"Can't Fix Crazy\"], [2, 1, \"Thirsty Bird\"], [2, 2, \"Looks Blue, Tastes Red\"], [2, 3, \"Hugs Can Be Deceiving\"], [2, 4, \"A Whole Other Hole\"], [2, 5, \"Low Self Esteem City\"], [2, 6, \"You Also Have a Pizza\"], [2, 7, \"Comic Sans\"], [2, 8, \"Appropriately Sized Pots\"], [2, 9, \"40 Oz. of Furlough\"], [2, 10, \"Little Mustachioed Sh*t\"], [2, 11, \"Take a Break From Your Values\"], [2, 12, \"It Was The Change\"], [2, 13, \"We Have Manners. We're Polite.\"], [3, 1, \"Mother's Day\"], [3, 2, \"Bed Bugs and Beyond\"], [3, 3, \"Empathy is a Boner Killer\"], [3, 4, \"Finger in the Dyke\"], [3, 5, \"Fake It Till You Fake It Some More\"], [3, 6, \"Ching Chong Chang\"], [3, 7, \"Tongue-Tied\"], [3, 8, \"Fear, and Other Smells\"], [3, 9, \"Where My Dreidel At\"], [3, 10, \"A Tittin' and a Harrin'\"], [3, 11, \"We Can Be Heros\"], [3, 12, \"Don't Make Me Come Back There\"], [3, 13, \"Trust No Bitch\"], [4, 1, \"Work That Body for Me\"], [4, 2, \"Power Suit\"], [4, 3, \"(Don't) Say Anything\"], [4, 4, \"Doctor Psycho\"], [4, 5, \"We'll Always Have Baltimore\"], [4, 6, \"Piece of Sh*t\"], [4, 7, \"It Sounded Nicer in My Head\"], [4, 8, \"Friends in Low Places\"], [4, 9, \"Turn Table Turn\"], [4, 10, \"Bunny, Skull, Bunny, Skull\"], [4, 11, \"People Persons\"], [4, 12, \"The Animals\"], [4, 13, \"Toast Can't Never Be Bread Again\"], [5, 1, \"Riot FOMO\"], [5, 2, \"F*ck, Marry, Frieda\"], [5, 3, \"Pissters!\"], [5, 4, \"Litchfield's Got Talent\"], [5, 5, \"Sing It, White Effie\"], [5, 6, \"Flaming Hot Cheetos, Literally\"], [5, 7, \"Full Bush, Half Snickers\"], [5, 8, \"Tied to the Tracks\"], [5, 9, \"The Tightening\"], [5, 10, \"The Reverse Midas Touch\"], [5, 11, \"Breaking the Fiberboard Ceiling\"], [5, 12, \"Tattoo You\"], [5, 13, \"Storm-y Weather\"], [6, 1, \"Who Knows Better Than I\"], [6, 2, \"Sh*tstorm Coming\"], [6, 3, \"Look Out for Number One\"], [6, 4, \"I'm the Talking Ass\"], [6, 5, \"Mischief Mischief\"], [6, 6, \"State of the Uterus\"], [6, 7, \"Changing Winds\"], [6, 8, \"Gordons\"], [6, 9, \"Break the String\"], [6, 10, \"Chocolate Chip Nookie\"], [6, 11, \"Well This Took a Dark Turn\"], [6, 12, \"Double Trouble\"], [6, 13, \"Be Free\"], [7, 1, \"Beginning of the End\"], [7, 2, \"Just Desserts\"], [7, 3, \"And Brown Is the New Orange\"], [7, 4, \"How to Do Life\"], [7, 5, \"Minority Deport\"], [7, 6, \"Trapped in an Elevator\"], [7, 7, \"Me as Well\"], [7, 8, \"Baker's Dozen\"], [7, 9, \"The Hidey Hole\"], [7, 10, \"The Thirteenth\"], [7, 11, \"God Bless America\"], [7, 12, \"The Big House\"], [7, 13, \"Here's Where We Get Off\"]], \"hovertemplate\": \"Queer=1<br>SeasonEp=%{x}<br>dur_sec=%{y}<br>Season=%{customdata[0]}<br>Episode=%{customdata[1]}<br>Title=%{customdata[2]}<extra></extra>\", \"legendgroup\": \"1\", \"line\": {\"color\": \"#EF553B\", \"dash\": \"solid\"}, \"mode\": \"lines\", \"name\": \"1\", \"orientation\": \"v\", \"showlegend\": true, \"type\": \"scatter\", \"x\": [1.0769230769230769, 1.1538461538461537, 1.2307692307692308, 1.3076923076923077, 1.3846153846153846, 1.4615384615384617, 1.5384615384615383, 1.6153846153846154, 1.6923076923076923, 1.7692307692307692, 1.8461538461538463, 1.9230769230769231, 2.0, 2.076923076923077, 2.1538461538461537, 2.230769230769231, 2.3076923076923075, 2.3846153846153846, 2.4615384615384617, 2.5384615384615383, 2.6153846153846154, 2.6923076923076925, 2.769230769230769, 2.8461538461538463, 2.9230769230769234, 3.0, 3.076923076923077, 3.1538461538461537, 3.230769230769231, 3.3076923076923075, 3.3846153846153846, 3.4615384615384617, 3.5384615384615383, 3.6153846153846154, 3.6923076923076925, 3.769230769230769, 3.8461538461538463, 3.9230769230769234, 4.0, 4.076923076923077, 4.153846153846154, 4.230769230769231, 4.3076923076923075, 4.384615384615385, 4.461538461538462, 4.538461538461538, 4.615384615384615, 4.6923076923076925, 4.769230769230769, 4.846153846153846, 4.923076923076923, 5.0, 5.076923076923077, 5.153846153846154, 5.230769230769231, 5.3076923076923075, 5.384615384615385, 5.461538461538462, 5.538461538461538, 5.615384615384615, 5.6923076923076925, 5.769230769230769, 5.846153846153846, 5.923076923076923, 6.0, 6.076923076923077, 6.153846153846154, 6.230769230769231, 6.3076923076923075, 6.384615384615385, 6.461538461538462, 6.538461538461538, 6.615384615384615, 6.6923076923076925, 6.769230769230769, 6.846153846153846, 6.923076923076923, 7.0, 7.076923076923077, 7.153846153846154, 7.230769230769231, 7.3076923076923075, 7.384615384615385, 7.461538461538462, 7.538461538461538, 7.615384615384615, 7.6923076923076925, 7.769230769230769, 7.846153846153846, 7.923076923076923, 8.0], \"xaxis\": \"x\", \"y\": [70.0, 8.0, 12.0, 9.0, 20.0, 9.0, 0.0, 0.0, 15.0, 5.0, 14.0, 22.0, 24.0, 2.0, 0.0, 42.0, 71.0, 0.0, 86.0, 0.0, 0.0, 0.0, 60.0, 0.0, 16.0, 0.0, 5.0, 41.0, 43.0, 40.0, 0.0, 0.0, 1.0, 0.0, 6.0, 9.0, 3.0, 0.0, 6.0, 1.0, 0.0, 0.0, 15.0, 0.0, 39.0, 0.0, 4.0, 0.0, 62.0, 19.0, 44.0, 8.0, 15.0, 0.0, 0.0, 0.0, 1.0, 20.0, 27.0, 0.0, 28.0, 8.0, 6.0, 7.0, 2.0, 12.0, 0.0, 0.0, 7.0, 0.0, 10.0, 7.0, 28.0, 24.0, 4.0, 0.0, 2.0, 10.0, 7.0, 0.0, 0.0, 0.0, 0.0, 0.0, 82.0, 14.0, 34.0, 30.0, 6.0, 18.0, 2.0], \"yaxis\": \"y\"}],\n",
       "                        {\"legend\": {\"title\": {\"text\": \"Queer\"}, \"tracegroupgap\": 0}, \"margin\": {\"t\": 60}, \"template\": {\"data\": {\"bar\": [{\"error_x\": {\"color\": \"#2a3f5f\"}, \"error_y\": {\"color\": \"#2a3f5f\"}, \"marker\": {\"line\": {\"color\": \"#E5ECF6\", \"width\": 0.5}}, \"type\": \"bar\"}], \"barpolar\": [{\"marker\": {\"line\": {\"color\": \"#E5ECF6\", \"width\": 0.5}}, \"type\": \"barpolar\"}], \"carpet\": [{\"aaxis\": {\"endlinecolor\": \"#2a3f5f\", \"gridcolor\": \"white\", \"linecolor\": \"white\", \"minorgridcolor\": \"white\", \"startlinecolor\": \"#2a3f5f\"}, \"baxis\": {\"endlinecolor\": \"#2a3f5f\", \"gridcolor\": \"white\", \"linecolor\": \"white\", \"minorgridcolor\": \"white\", \"startlinecolor\": \"#2a3f5f\"}, \"type\": \"carpet\"}], \"choropleth\": [{\"colorbar\": {\"outlinewidth\": 0, \"ticks\": \"\"}, \"type\": \"choropleth\"}], \"contour\": [{\"colorbar\": {\"outlinewidth\": 0, \"ticks\": \"\"}, \"colorscale\": [[0.0, \"#0d0887\"], [0.1111111111111111, \"#46039f\"], [0.2222222222222222, \"#7201a8\"], [0.3333333333333333, \"#9c179e\"], [0.4444444444444444, \"#bd3786\"], [0.5555555555555556, \"#d8576b\"], [0.6666666666666666, \"#ed7953\"], [0.7777777777777778, \"#fb9f3a\"], [0.8888888888888888, \"#fdca26\"], [1.0, \"#f0f921\"]], \"type\": \"contour\"}], \"contourcarpet\": [{\"colorbar\": {\"outlinewidth\": 0, \"ticks\": \"\"}, \"type\": \"contourcarpet\"}], \"heatmap\": [{\"colorbar\": {\"outlinewidth\": 0, \"ticks\": \"\"}, \"colorscale\": [[0.0, \"#0d0887\"], [0.1111111111111111, \"#46039f\"], [0.2222222222222222, \"#7201a8\"], [0.3333333333333333, \"#9c179e\"], [0.4444444444444444, \"#bd3786\"], [0.5555555555555556, \"#d8576b\"], [0.6666666666666666, \"#ed7953\"], [0.7777777777777778, \"#fb9f3a\"], [0.8888888888888888, \"#fdca26\"], [1.0, \"#f0f921\"]], \"type\": \"heatmap\"}], \"heatmapgl\": [{\"colorbar\": {\"outlinewidth\": 0, \"ticks\": \"\"}, \"colorscale\": [[0.0, \"#0d0887\"], [0.1111111111111111, \"#46039f\"], [0.2222222222222222, \"#7201a8\"], [0.3333333333333333, \"#9c179e\"], [0.4444444444444444, \"#bd3786\"], [0.5555555555555556, \"#d8576b\"], [0.6666666666666666, \"#ed7953\"], [0.7777777777777778, \"#fb9f3a\"], [0.8888888888888888, \"#fdca26\"], [1.0, \"#f0f921\"]], \"type\": \"heatmapgl\"}], \"histogram\": [{\"marker\": {\"colorbar\": {\"outlinewidth\": 0, \"ticks\": \"\"}}, \"type\": \"histogram\"}], \"histogram2d\": [{\"colorbar\": {\"outlinewidth\": 0, \"ticks\": \"\"}, \"colorscale\": [[0.0, \"#0d0887\"], [0.1111111111111111, \"#46039f\"], [0.2222222222222222, \"#7201a8\"], [0.3333333333333333, \"#9c179e\"], [0.4444444444444444, \"#bd3786\"], [0.5555555555555556, \"#d8576b\"], [0.6666666666666666, \"#ed7953\"], [0.7777777777777778, \"#fb9f3a\"], [0.8888888888888888, \"#fdca26\"], [1.0, \"#f0f921\"]], \"type\": \"histogram2d\"}], \"histogram2dcontour\": [{\"colorbar\": {\"outlinewidth\": 0, \"ticks\": \"\"}, \"colorscale\": [[0.0, \"#0d0887\"], [0.1111111111111111, \"#46039f\"], [0.2222222222222222, \"#7201a8\"], [0.3333333333333333, \"#9c179e\"], [0.4444444444444444, \"#bd3786\"], [0.5555555555555556, \"#d8576b\"], [0.6666666666666666, \"#ed7953\"], [0.7777777777777778, \"#fb9f3a\"], [0.8888888888888888, \"#fdca26\"], [1.0, \"#f0f921\"]], \"type\": \"histogram2dcontour\"}], \"mesh3d\": [{\"colorbar\": {\"outlinewidth\": 0, \"ticks\": \"\"}, \"type\": \"mesh3d\"}], \"parcoords\": [{\"line\": {\"colorbar\": {\"outlinewidth\": 0, \"ticks\": \"\"}}, \"type\": \"parcoords\"}], \"pie\": [{\"automargin\": true, \"type\": \"pie\"}], \"scatter\": [{\"marker\": {\"colorbar\": {\"outlinewidth\": 0, \"ticks\": \"\"}}, \"type\": \"scatter\"}], \"scatter3d\": [{\"line\": {\"colorbar\": {\"outlinewidth\": 0, \"ticks\": \"\"}}, \"marker\": {\"colorbar\": {\"outlinewidth\": 0, \"ticks\": \"\"}}, \"type\": \"scatter3d\"}], \"scattercarpet\": [{\"marker\": {\"colorbar\": {\"outlinewidth\": 0, \"ticks\": \"\"}}, \"type\": \"scattercarpet\"}], \"scattergeo\": [{\"marker\": {\"colorbar\": {\"outlinewidth\": 0, \"ticks\": \"\"}}, \"type\": \"scattergeo\"}], \"scattergl\": [{\"marker\": {\"colorbar\": {\"outlinewidth\": 0, \"ticks\": \"\"}}, \"type\": \"scattergl\"}], \"scattermapbox\": [{\"marker\": {\"colorbar\": {\"outlinewidth\": 0, \"ticks\": \"\"}}, \"type\": \"scattermapbox\"}], \"scatterpolar\": [{\"marker\": {\"colorbar\": {\"outlinewidth\": 0, \"ticks\": \"\"}}, \"type\": \"scatterpolar\"}], \"scatterpolargl\": [{\"marker\": {\"colorbar\": {\"outlinewidth\": 0, \"ticks\": \"\"}}, \"type\": \"scatterpolargl\"}], \"scatterternary\": [{\"marker\": {\"colorbar\": {\"outlinewidth\": 0, \"ticks\": \"\"}}, \"type\": \"scatterternary\"}], \"surface\": [{\"colorbar\": {\"outlinewidth\": 0, \"ticks\": \"\"}, \"colorscale\": [[0.0, \"#0d0887\"], [0.1111111111111111, \"#46039f\"], [0.2222222222222222, \"#7201a8\"], [0.3333333333333333, \"#9c179e\"], [0.4444444444444444, \"#bd3786\"], [0.5555555555555556, \"#d8576b\"], [0.6666666666666666, \"#ed7953\"], [0.7777777777777778, \"#fb9f3a\"], [0.8888888888888888, \"#fdca26\"], [1.0, \"#f0f921\"]], \"type\": \"surface\"}], \"table\": [{\"cells\": {\"fill\": {\"color\": \"#EBF0F8\"}, \"line\": {\"color\": \"white\"}}, \"header\": {\"fill\": {\"color\": \"#C8D4E3\"}, \"line\": {\"color\": \"white\"}}, \"type\": \"table\"}]}, \"layout\": {\"annotationdefaults\": {\"arrowcolor\": \"#2a3f5f\", \"arrowhead\": 0, \"arrowwidth\": 1}, \"coloraxis\": {\"colorbar\": {\"outlinewidth\": 0, \"ticks\": \"\"}}, \"colorscale\": {\"diverging\": [[0, \"#8e0152\"], [0.1, \"#c51b7d\"], [0.2, \"#de77ae\"], [0.3, \"#f1b6da\"], [0.4, \"#fde0ef\"], [0.5, \"#f7f7f7\"], [0.6, \"#e6f5d0\"], [0.7, \"#b8e186\"], [0.8, \"#7fbc41\"], [0.9, \"#4d9221\"], [1, \"#276419\"]], \"sequential\": [[0.0, \"#0d0887\"], [0.1111111111111111, \"#46039f\"], [0.2222222222222222, \"#7201a8\"], [0.3333333333333333, \"#9c179e\"], [0.4444444444444444, \"#bd3786\"], [0.5555555555555556, \"#d8576b\"], [0.6666666666666666, \"#ed7953\"], [0.7777777777777778, \"#fb9f3a\"], [0.8888888888888888, \"#fdca26\"], [1.0, \"#f0f921\"]], \"sequentialminus\": [[0.0, \"#0d0887\"], [0.1111111111111111, \"#46039f\"], [0.2222222222222222, \"#7201a8\"], [0.3333333333333333, \"#9c179e\"], [0.4444444444444444, \"#bd3786\"], [0.5555555555555556, \"#d8576b\"], [0.6666666666666666, \"#ed7953\"], [0.7777777777777778, \"#fb9f3a\"], [0.8888888888888888, \"#fdca26\"], [1.0, \"#f0f921\"]]}, \"colorway\": [\"#636efa\", \"#EF553B\", \"#00cc96\", \"#ab63fa\", \"#FFA15A\", \"#19d3f3\", \"#FF6692\", \"#B6E880\", \"#FF97FF\", \"#FECB52\"], \"font\": {\"color\": \"#2a3f5f\"}, \"geo\": {\"bgcolor\": \"white\", \"lakecolor\": \"white\", \"landcolor\": \"#E5ECF6\", \"showlakes\": true, \"showland\": true, \"subunitcolor\": \"white\"}, \"hoverlabel\": {\"align\": \"left\"}, \"hovermode\": \"closest\", \"mapbox\": {\"style\": \"light\"}, \"paper_bgcolor\": \"white\", \"plot_bgcolor\": \"#E5ECF6\", \"polar\": {\"angularaxis\": {\"gridcolor\": \"white\", \"linecolor\": \"white\", \"ticks\": \"\"}, \"bgcolor\": \"#E5ECF6\", \"radialaxis\": {\"gridcolor\": \"white\", \"linecolor\": \"white\", \"ticks\": \"\"}}, \"scene\": {\"xaxis\": {\"backgroundcolor\": \"#E5ECF6\", \"gridcolor\": \"white\", \"gridwidth\": 2, \"linecolor\": \"white\", \"showbackground\": true, \"ticks\": \"\", \"zerolinecolor\": \"white\"}, \"yaxis\": {\"backgroundcolor\": \"#E5ECF6\", \"gridcolor\": \"white\", \"gridwidth\": 2, \"linecolor\": \"white\", \"showbackground\": true, \"ticks\": \"\", \"zerolinecolor\": \"white\"}, \"zaxis\": {\"backgroundcolor\": \"#E5ECF6\", \"gridcolor\": \"white\", \"gridwidth\": 2, \"linecolor\": \"white\", \"showbackground\": true, \"ticks\": \"\", \"zerolinecolor\": \"white\"}}, \"shapedefaults\": {\"line\": {\"color\": \"#2a3f5f\"}}, \"ternary\": {\"aaxis\": {\"gridcolor\": \"white\", \"linecolor\": \"white\", \"ticks\": \"\"}, \"baxis\": {\"gridcolor\": \"white\", \"linecolor\": \"white\", \"ticks\": \"\"}, \"bgcolor\": \"#E5ECF6\", \"caxis\": {\"gridcolor\": \"white\", \"linecolor\": \"white\", \"ticks\": \"\"}}, \"title\": {\"x\": 0.05}, \"xaxis\": {\"automargin\": true, \"gridcolor\": \"white\", \"linecolor\": \"white\", \"ticks\": \"\", \"title\": {\"standoff\": 15}, \"zerolinecolor\": \"white\", \"zerolinewidth\": 2}, \"yaxis\": {\"automargin\": true, \"gridcolor\": \"white\", \"linecolor\": \"white\", \"ticks\": \"\", \"title\": {\"standoff\": 15}, \"zerolinecolor\": \"white\", \"zerolinewidth\": 2}}}, \"xaxis\": {\"anchor\": \"y\", \"domain\": [0.0, 1.0], \"title\": {\"text\": \"SeasonEp\"}}, \"yaxis\": {\"anchor\": \"x\", \"domain\": [0.0, 1.0], \"title\": {\"text\": \"dur_sec\"}}},\n",
       "                        {\"responsive\": true}\n",
       "                    ).then(function(){\n",
       "                            \n",
       "var gd = document.getElementById('1aeb6a5a-a646-404d-acc8-3edf2240ad7c');\n",
       "var x = new MutationObserver(function (mutations, observer) {{\n",
       "        var display = window.getComputedStyle(gd).display;\n",
       "        if (!display || display === 'none') {{\n",
       "            console.log([gd, 'removed!']);\n",
       "            Plotly.purge(gd);\n",
       "            observer.disconnect();\n",
       "        }}\n",
       "}});\n",
       "\n",
       "// Listen for the removal of the full notebook cells\n",
       "var notebookContainer = gd.closest('#notebook-container');\n",
       "if (notebookContainer) {{\n",
       "    x.observe(notebookContainer, {childList: true});\n",
       "}}\n",
       "\n",
       "// Listen for the clearing of the current output cell\n",
       "var outputEl = gd.closest('.output');\n",
       "if (outputEl) {{\n",
       "    x.observe(outputEl, {childList: true});\n",
       "}}\n",
       "\n",
       "                        })\n",
       "                };\n",
       "                });\n",
       "            </script>\n",
       "        </div>"
      ]
     },
     "metadata": {},
     "output_type": "display_data"
    }
   ],
   "source": [
    "import plotly.express as px\n",
    "\n",
    "# Combined var for season & episode\n",
    "allepisodes['SeasonEp'] = allepisodes['Season'] + allepisodes['Episode']/13\n",
    "\n",
    "fig = px.line(allepisodes, x=\"SeasonEp\", y=\"dur_sec\", color=\"Queer\", hover_data=[\"Season\", \"Episode\", \"Title\"])\n",
    "fig.show()"
   ]
  },
  {
   "cell_type": "code",
   "execution_count": null,
   "metadata": {},
   "outputs": [],
   "source": []
  }
 ],
 "metadata": {
  "kernelspec": {
   "display_name": "Python 3",
   "language": "python",
   "name": "python3"
  },
  "language_info": {
   "codemirror_mode": {
    "name": "ipython",
    "version": 3
   },
   "file_extension": ".py",
   "mimetype": "text/x-python",
   "name": "python",
   "nbconvert_exporter": "python",
   "pygments_lexer": "ipython3",
   "version": "3.6.10"
  }
 },
 "nbformat": 4,
 "nbformat_minor": 4
}
